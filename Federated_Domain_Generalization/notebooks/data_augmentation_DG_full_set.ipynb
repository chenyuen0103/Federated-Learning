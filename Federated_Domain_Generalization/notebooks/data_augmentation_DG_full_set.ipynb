{
 "cells": [
  {
   "cell_type": "markdown",
   "id": "e678fbf9",
   "metadata": {},
   "source": [
    "### Experiments with different domains and data augmentation (Full set)\n",
    "This notebook demonstrate the performance of different training methods under different environments.\n",
    "In order to understand the effect of data augmentation, we create different scenarios where data augmentation is used.\n",
    "\n",
    "The data augmentation used in this notebook is related to the different domains at hand. Here we use the RotatedMNIST dataset, that consists of rotated digits from the MNIST dataset, where the test set correspond to the digits rotated by 75°.\n",
    "Furthermore, the data augmentation techniques here employed are the rotation of digits by as much as 15°, 30°, and 45°, as well as applying a guassian blur.\n",
    "\n",
    "Copyright (C) 2019. Huawei Technologies Co., Ltd. All rights reserved.\n",
    "This program is free software; you can redistribute it and/or modify\n",
    "it under the terms of the Apache 2.0 License.\n",
    "This program is distributed in the hope that it will be useful,\n",
    "but WITHOUT ANY WARRANTY; without even the implied warranty of\n",
    "MERCHANTABILITY or FITNESS FOR A PARTICULAR PURPOSE. See the\n",
    "Apache 2.0 License for more details.\n"
   ]
  },
  {
   "cell_type": "code",
   "execution_count": 1,
   "id": "cba8d6de",
   "metadata": {},
   "outputs": [],
   "source": [
    "import os\n",
    "\n",
    "import numpy as np\n",
    "import torch\n",
    "from torchvision import transforms\n",
    "\n",
    "import flsuite\n",
    "import flsuite.data as data\n",
    "import flsuite.utils as utils\n",
    "from flsuite.algs import afl, fed_avg, individual_train\n",
    "from flsuite.algs.trainers import GroupDRO, ERM\n",
    "\n",
    "rounds = 40\n",
    "local_steps = 200\n",
    "steps = local_steps*rounds\n",
    "\n",
    "seed = 0\n",
    "num_clients = 5\n",
    "batch_size = 64\n",
    "\n",
    "save = '../data/experiments/data_augmentation/full_set/'\n",
    "os.environ['CUDA_VISIBLE_DEVICES'] = str(1)\n",
    "device = torch.device('cuda:0')\n",
    "\n",
    "dataset = data.datasets.RotatedMNIST('../data/datasets')\n",
    "train_sets = dataset.datasets[:num_clients]\n",
    "test_set = dataset.datasets[-1]\n",
    "all_train_set = data.merge_datasets(train_sets)\n",
    "\n",
    "all_train_loader = data.build_dataloaders([all_train_set], batch_size, shuffle=False)[0]\n",
    "test_loader = data.build_dataloaders([test_set], batch_size, shuffle=False)[0]"
   ]
  },
  {
   "cell_type": "code",
   "execution_count": 2,
   "id": "f7d17964",
   "metadata": {},
   "outputs": [],
   "source": [
    "transform = transforms.RandomRotation(15)\n",
    "augmented_train_sets_15 = [data.utils.CustomDataset.parse_values(x, transform) \\\n",
    "                           for x in train_sets]\n",
    "\n",
    "transform = transforms.RandomRotation(30)\n",
    "augmented_train_sets_30 = [data.utils.CustomDataset.parse_values(x, transform) \\\n",
    "                           for x in train_sets]\n",
    "\n",
    "transform = transforms.RandomRotation(45)\n",
    "augmented_train_sets_45 = [data.utils.CustomDataset.parse_values(x, transform) \\\n",
    "                           for x in train_sets]\n",
    "\n",
    "transform = transforms.GaussianBlur(5)\n",
    "augmented_train_sets_blur = [data.utils.CustomDataset.parse_values(x, transform) \\\n",
    "                           for x in train_sets]"
   ]
  },
  {
   "cell_type": "markdown",
   "id": "403a1702",
   "metadata": {},
   "source": [
    "### Empirical Risk Minimization (Vapnik 1992)"
   ]
  },
  {
   "cell_type": "markdown",
   "id": "eb919ad0",
   "metadata": {},
   "source": [
    "#### Without data augmentation"
   ]
  },
  {
   "cell_type": "code",
   "execution_count": 8,
   "id": "84296665",
   "metadata": {},
   "outputs": [
    {
     "name": "stdout",
     "output_type": "stream",
     "text": [
      "Train accuracy: 0.997\n",
      "Test accuracy: 0.918\n"
     ]
    }
   ],
   "source": [
    "torch.manual_seed(seed)\n",
    "train_loaders = data.build_dataloaders(train_sets, batch_size)\n",
    "global_loader = data.utils.DataLoaderWrapper(train_loaders)\n",
    "\n",
    "path = os.path.join(save, 'erm/original/')\n",
    "global_model = flsuite.models.model_loader('RMNIST', 1, seed)[0]\n",
    "global_model = individual_train(global_model, global_loader, steps, validation_loader=test_loader, \\\n",
    "                                device=device, save=path, eval_steps=10)\n",
    "\n",
    "print('Train accuracy: %.3f' % utils.eval.accuracy(global_model, all_train_loader))\n",
    "print('Test accuracy: %.3f' % utils.eval.accuracy(global_model, test_loader))"
   ]
  },
  {
   "cell_type": "markdown",
   "id": "68058e68",
   "metadata": {},
   "source": [
    "#### With data augmentation (15°)"
   ]
  },
  {
   "cell_type": "code",
   "execution_count": 9,
   "id": "c919e842",
   "metadata": {},
   "outputs": [
    {
     "name": "stdout",
     "output_type": "stream",
     "text": [
      "Train accuracy: 0.996\n",
      "Test accuracy: 0.963\n"
     ]
    }
   ],
   "source": [
    "torch.manual_seed(seed)\n",
    "train_loaders = data.build_dataloaders(augmented_train_sets_15, batch_size)\n",
    "global_loader = data.utils.DataLoaderWrapper(train_loaders)\n",
    "\n",
    "path = os.path.join(save, 'erm/da_15/')\n",
    "global_model = flsuite.models.model_loader('RMNIST', 1, seed)[0]\n",
    "global_model = individual_train(global_model, global_loader, steps, validation_loader=test_loader, \\\n",
    "                                device=device, save=path, eval_steps=10)\n",
    "\n",
    "print('Train accuracy: %.3f' % utils.eval.accuracy(global_model, all_train_loader))\n",
    "print('Test accuracy: %.3f' % utils.eval.accuracy(global_model, test_loader))"
   ]
  },
  {
   "cell_type": "markdown",
   "id": "647f9d04",
   "metadata": {},
   "source": [
    "#### With data augmentation (30°)"
   ]
  },
  {
   "cell_type": "code",
   "execution_count": 10,
   "id": "d9a56c9c",
   "metadata": {},
   "outputs": [
    {
     "name": "stdout",
     "output_type": "stream",
     "text": [
      "Train accuracy: 0.993\n",
      "Test accuracy: 0.975\n"
     ]
    }
   ],
   "source": [
    "torch.manual_seed(seed)\n",
    "train_loaders = data.build_dataloaders(augmented_train_sets_30, batch_size)\n",
    "global_loader = data.utils.DataLoaderWrapper(train_loaders)\n",
    "\n",
    "path = os.path.join(save, 'erm/da_30/')\n",
    "global_model = flsuite.models.model_loader('RMNIST', 1, seed)[0]\n",
    "global_model = individual_train(global_model, global_loader, steps, validation_loader=test_loader, \\\n",
    "                                device=device, save=path, eval_steps=10)\n",
    "\n",
    "print('Train accuracy: %.3f' % utils.eval.accuracy(global_model, all_train_loader))\n",
    "print('Test accuracy: %.3f' % utils.eval.accuracy(global_model, test_loader))"
   ]
  },
  {
   "cell_type": "markdown",
   "id": "68f97ed6",
   "metadata": {},
   "source": [
    "#### With data augmentation (45°)"
   ]
  },
  {
   "cell_type": "code",
   "execution_count": 11,
   "id": "e4ec96bf",
   "metadata": {},
   "outputs": [
    {
     "name": "stdout",
     "output_type": "stream",
     "text": [
      "Train accuracy: 0.990\n",
      "Test accuracy: 0.978\n"
     ]
    }
   ],
   "source": [
    "torch.manual_seed(seed)\n",
    "train_loaders = data.build_dataloaders(augmented_train_sets_45, batch_size)\n",
    "global_loader = data.utils.DataLoaderWrapper(train_loaders)\n",
    "\n",
    "path = os.path.join(save, 'erm/da_45/')\n",
    "global_model = flsuite.models.model_loader('RMNIST', 1, seed)[0]\n",
    "global_model = individual_train(global_model, global_loader, steps, validation_loader=test_loader, \\\n",
    "                                device=device, save=path, eval_steps=10)\n",
    "\n",
    "print('Train accuracy: %.3f' % utils.eval.accuracy(global_model, all_train_loader))\n",
    "print('Test accuracy: %.3f' % utils.eval.accuracy(global_model, test_loader))"
   ]
  },
  {
   "cell_type": "markdown",
   "id": "850019fa",
   "metadata": {},
   "source": [
    "#### With data augmentation (Gaussian Blur)"
   ]
  },
  {
   "cell_type": "code",
   "execution_count": 12,
   "id": "89963151",
   "metadata": {},
   "outputs": [
    {
     "name": "stdout",
     "output_type": "stream",
     "text": [
      "Train accuracy: 0.993\n",
      "Test accuracy: 0.915\n"
     ]
    }
   ],
   "source": [
    "torch.manual_seed(seed)\n",
    "train_loaders = data.build_dataloaders(augmented_train_sets_blur, batch_size)\n",
    "global_loader = data.utils.DataLoaderWrapper(train_loaders)\n",
    "\n",
    "path = os.path.join(save, 'erm/da_blur/')\n",
    "global_model = flsuite.models.model_loader('RMNIST', 1, seed)[0]\n",
    "global_model = individual_train(global_model, global_loader, steps, validation_loader=test_loader, \\\n",
    "                                device=device, save=path, eval_steps=10)\n",
    "\n",
    "print('Train accuracy: %.3f' % utils.eval.accuracy(global_model, all_train_loader))\n",
    "print('Test accuracy: %.3f' % utils.eval.accuracy(global_model, test_loader))"
   ]
  },
  {
   "cell_type": "markdown",
   "id": "abc8e433",
   "metadata": {},
   "source": [
    "### Group DRO (Sagawa et al. 2019)"
   ]
  },
  {
   "cell_type": "markdown",
   "id": "3220afe7",
   "metadata": {},
   "source": [
    "#### Without data augmentation"
   ]
  },
  {
   "cell_type": "code",
   "execution_count": 13,
   "id": "9f3b3989",
   "metadata": {},
   "outputs": [
    {
     "name": "stdout",
     "output_type": "stream",
     "text": [
      "Train accuracy: 0.998\n",
      "Test accuracy: 0.943\n"
     ]
    }
   ],
   "source": [
    "torch.manual_seed(seed)\n",
    "train_loaders = data.build_dataloaders(train_sets, batch_size)\n",
    "global_loader = data.utils.DataLoaderWrapper(train_loaders)\n",
    "\n",
    "path = os.path.join(save, 'group_dro/original/')\n",
    "global_model = GroupDRO.bind_to(flsuite.models.model_loader('RMNIST', 1, seed)[0])\n",
    "global_model = individual_train(global_model, global_loader, steps, validation_loader=test_loader, \\\n",
    "                                device=device, save=path, eval_steps=10)\n",
    "\n",
    "print('Train accuracy: %.3f' % utils.eval.accuracy(global_model, all_train_loader))\n",
    "print('Test accuracy: %.3f' % utils.eval.accuracy(global_model, test_loader))"
   ]
  },
  {
   "cell_type": "markdown",
   "id": "ea556d44",
   "metadata": {},
   "source": [
    "#### With data augmentation (15°)"
   ]
  },
  {
   "cell_type": "code",
   "execution_count": 14,
   "id": "5c87b911",
   "metadata": {},
   "outputs": [
    {
     "name": "stdout",
     "output_type": "stream",
     "text": [
      "Train accuracy: 0.994\n",
      "Test accuracy: 0.969\n"
     ]
    }
   ],
   "source": [
    "torch.manual_seed(seed)\n",
    "train_loaders = data.build_dataloaders(augmented_train_sets_15, batch_size)\n",
    "global_loader = data.utils.DataLoaderWrapper(train_loaders)\n",
    "\n",
    "path = os.path.join(save, 'group_dro/da_15/')\n",
    "global_model = GroupDRO.bind_to(flsuite.models.model_loader('RMNIST', 1, seed)[0])\n",
    "global_model = individual_train(global_model, global_loader, steps, validation_loader=test_loader, \\\n",
    "                                device=device, save=path, eval_steps=10)\n",
    "\n",
    "print('Train accuracy: %.3f' % utils.eval.accuracy(global_model, all_train_loader))\n",
    "print('Test accuracy: %.3f' % utils.eval.accuracy(global_model, test_loader))"
   ]
  },
  {
   "cell_type": "markdown",
   "id": "fd61a990",
   "metadata": {},
   "source": [
    "#### With data augmentation (30°)"
   ]
  },
  {
   "cell_type": "code",
   "execution_count": 15,
   "id": "002778dd",
   "metadata": {},
   "outputs": [
    {
     "name": "stdout",
     "output_type": "stream",
     "text": [
      "Train accuracy: 0.992\n",
      "Test accuracy: 0.979\n"
     ]
    }
   ],
   "source": [
    "torch.manual_seed(seed)\n",
    "train_loaders = data.build_dataloaders(augmented_train_sets_30, batch_size)\n",
    "global_loader = data.utils.DataLoaderWrapper(train_loaders)\n",
    "\n",
    "path = os.path.join(save, 'group_dro/da_30/')\n",
    "global_model = GroupDRO.bind_to(flsuite.models.model_loader('RMNIST', 1, seed)[0])\n",
    "global_model = individual_train(global_model, global_loader, steps, validation_loader=test_loader, \\\n",
    "                                device=device, save=path, eval_steps=10)\n",
    "\n",
    "print('Train accuracy: %.3f' % utils.eval.accuracy(global_model, all_train_loader))\n",
    "print('Test accuracy: %.3f' % utils.eval.accuracy(global_model, test_loader))"
   ]
  },
  {
   "cell_type": "markdown",
   "id": "79411aed",
   "metadata": {},
   "source": [
    "#### With data augmentation (45°)"
   ]
  },
  {
   "cell_type": "code",
   "execution_count": 16,
   "id": "134c6fc5",
   "metadata": {},
   "outputs": [
    {
     "name": "stdout",
     "output_type": "stream",
     "text": [
      "Train accuracy: 0.989\n",
      "Test accuracy: 0.980\n"
     ]
    }
   ],
   "source": [
    "torch.manual_seed(seed)\n",
    "train_loaders = data.build_dataloaders(augmented_train_sets_45, batch_size)\n",
    "global_loader = data.utils.DataLoaderWrapper(train_loaders)\n",
    "\n",
    "path = os.path.join(save, 'group_dro/da_45/')\n",
    "global_model = GroupDRO.bind_to(flsuite.models.model_loader('RMNIST', 1, seed)[0])\n",
    "global_model = individual_train(global_model, global_loader, steps, validation_loader=test_loader, \\\n",
    "                                device=device, save=path, eval_steps=10)\n",
    "\n",
    "print('Train accuracy: %.3f' % utils.eval.accuracy(global_model, all_train_loader))\n",
    "print('Test accuracy: %.3f' % utils.eval.accuracy(global_model, test_loader))"
   ]
  },
  {
   "cell_type": "markdown",
   "id": "463bd1b5",
   "metadata": {},
   "source": [
    "#### With data augmentation (Gaussian Blur)"
   ]
  },
  {
   "cell_type": "code",
   "execution_count": 17,
   "id": "3c5ba674",
   "metadata": {},
   "outputs": [
    {
     "name": "stdout",
     "output_type": "stream",
     "text": [
      "Train accuracy: 0.992\n",
      "Test accuracy: 0.933\n"
     ]
    }
   ],
   "source": [
    "torch.manual_seed(seed)\n",
    "train_loaders = data.build_dataloaders(augmented_train_sets_blur, batch_size)\n",
    "global_loader = data.utils.DataLoaderWrapper(train_loaders)\n",
    "\n",
    "path = os.path.join(save, 'group_dro/da_blur/')\n",
    "\n",
    "global_model = GroupDRO.bind_to(flsuite.models.model_loader('RMNIST', 1, seed)[0])\n",
    "global_model = individual_train(global_model, global_loader, steps, validation_loader=test_loader, \\\n",
    "                                device=device, save=path, eval_steps=10)\n",
    "\n",
    "print('Train accuracy: %.3f' % utils.eval.accuracy(global_model, all_train_loader))\n",
    "print('Test accuracy: %.3f' % utils.eval.accuracy(global_model, test_loader))"
   ]
  }
 ],
 "metadata": {
  "kernelspec": {
   "display_name": "Python 3",
   "language": "python",
   "name": "python3"
  },
  "language_info": {
   "codemirror_mode": {
    "name": "ipython",
    "version": 3
   },
   "file_extension": ".py",
   "mimetype": "text/x-python",
   "name": "python",
   "nbconvert_exporter": "python",
   "pygments_lexer": "ipython3",
   "version": "3.6.9"
  }
 },
 "nbformat": 4,
 "nbformat_minor": 5
}
