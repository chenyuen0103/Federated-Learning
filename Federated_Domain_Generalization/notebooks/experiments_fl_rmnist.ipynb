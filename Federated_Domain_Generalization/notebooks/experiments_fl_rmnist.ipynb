{
 "cells": [
  {
   "cell_type": "code",
   "execution_count": 1,
   "id": "12b9c4c7",
   "metadata": {},
   "outputs": [],
   "source": [
    "'''\n",
    "Copyright (C) 2019. Huawei Technologies Co., Ltd. All rights reserved.\n",
    "This program is free software; you can redistribute it and/or modify\n",
    "it under the terms of the Apache 2.0 License.\n",
    "This program is distributed in the hope that it will be useful,\n",
    "but WITHOUT ANY WARRANTY; without even the implied warranty of\n",
    "MERCHANTABILITY or FITNESS FOR A PARTICULAR PURPOSE. See the\n",
    "Apache 2.0 License for more details.\n",
    "'''\n",
    "\n",
    "import os\n",
    "import matplotlib.pyplot as plt\n",
    "import torch\n",
    "\n",
    "import flsuite\n",
    "import flsuite.data as data\n",
    "import flsuite.utils as utils\n",
    "\n",
    "seed = 0\n",
    "rounds = 40\n",
    "local_steps = 200\n",
    "num_clients = 5\n",
    "batch_size = 64\n",
    "\n",
    "save = './data/experiments/comparison/'\n",
    "os.environ['CUDA_VISIBLE_DEVICES'] = str(0)\n",
    "device = torch.device('cuda')\n",
    "\n",
    "dataset = data.datasets.RotatedMNIST('./data/datasets')\n",
    "train_sets = dataset.datasets[:num_clients]\n",
    "test_set = dataset.datasets[-1]\n",
    "test_loader = data.build_dataloaders([test_set], batch_size, shuffle=False)[0]"
   ]
  },
  {
   "cell_type": "code",
   "execution_count": 2,
   "id": "610bb7d8",
   "metadata": {},
   "outputs": [
    {
     "data": {
      "image/png": "[encoded data removed]",
      "text/plain": [
       "<Figure size 864x576 with 6 Axes>"
      ]
     },
     "metadata": {
      "needs_background": "light"
     },
     "output_type": "display_data"
    }
   ],
   "source": [
    "idx = 4\n",
    "fig, ax = plt.subplots(1, len(dataset.datasets), figsize=(12, 8))\n",
    "for i, cls in enumerate(dataset.datasets):\n",
    "    ax[i].imshow(cls[idx][0][0].numpy(), cmap='Greys')\n",
    "    ax[i].axis('off')\n",
    "    ax[i].title.set_text(dataset.ENVIRONMENTS[i]+'°')"
   ]
  },
  {
   "cell_type": "markdown",
   "id": "0a6b0276",
   "metadata": {},
   "source": [
    "## Domain Generalization algorithms"
   ]
  },
  {
   "cell_type": "markdown",
   "id": "fa9b63f8",
   "metadata": {},
   "source": [
    "### Empirical Risk Minimization (Vapnik 1992)"
   ]
  },
  {
   "cell_type": "code",
   "execution_count": 3,
   "id": "e223c51e",
   "metadata": {},
   "outputs": [
    {
     "name": "stdout",
     "output_type": "stream",
     "text": [
      "Test accuracy: 0.946\n"
     ]
    }
   ],
   "source": [
    "from flsuite.algs import individual_train\n",
    "\n",
    "torch.manual_seed(seed)\n",
    "train_loaders = data.build_dataloaders(train_sets, batch_size)\n",
    "global_loader = data.utils.DataLoaderWrapper(train_loaders)\n",
    "\n",
    "global_model = flsuite.models.model_loader('RMNIST', 1, seed)[0]\n",
    "global_model = individual_train(global_model, global_loader, rounds*local_steps, validation_loader=test_loader, \\\n",
    "                                device=device, save=save+'erm', eval_steps=10)\n",
    "\n",
    "print('Test accuracy: %.3f' % utils.eval.accuracy(global_model, test_set))"
   ]
  },
  {
   "cell_type": "markdown",
   "id": "78d142f3",
   "metadata": {},
   "source": [
    "### Invariant Risk Minimization (Arjovski et al. 2019)"
   ]
  },
  {
   "cell_type": "code",
   "execution_count": null,
   "id": "fd0e581e",
   "metadata": {},
   "outputs": [],
   "source": [
    "from flsuite.algs import individual_train\n",
    "from flsuite.algs.trainers import IRM # non-scalar penalty\n",
    "\n",
    "torch.manual_seed(seed)\n",
    "train_loaders = data.build_dataloaders(train_sets, batch_size)\n",
    "global_loader = data.utils.DataLoaderWrapper(train_loaders)\n",
    "\n",
    "global_model = flsuite.models.model_loader('RMNIST', 1, seed)[0]\n",
    "global_model = IRM.bind_to(global_model)\n",
    "global_model = individual_train(global_model, global_loader, rounds*local_steps, validation_loader=test_loader, \\\n",
    "                                device=device, save=save+'irm', eval_steps=10)\n",
    "print('Test accuracy: %.3f' % utils.eval.accuracy(global_model, test_set))"
   ]
  },
  {
   "cell_type": "markdown",
   "id": "22552459",
   "metadata": {},
   "source": [
    "### GroupDRO (Sagawa et al. 2019)"
   ]
  },
  {
   "cell_type": "code",
   "execution_count": 4,
   "id": "6bad2d5c",
   "metadata": {},
   "outputs": [
    {
     "name": "stdout",
     "output_type": "stream",
     "text": [
      "Test accuracy: 0.944\n"
     ]
    }
   ],
   "source": [
    "from flsuite.algs import individual_train\n",
    "from flsuite.algs.trainers import GroupDRO\n",
    "\n",
    "torch.manual_seed(seed)\n",
    "train_loaders = data.build_dataloaders(train_sets, batch_size)\n",
    "global_loader = data.utils.DataLoaderWrapper(train_loaders)\n",
    "\n",
    "global_model = flsuite.models.model_loader('RMNIST', 1, seed)[0]\n",
    "global_model = GroupDRO.bind_to(global_model)\n",
    "global_model = individual_train(global_model, global_loader, rounds*local_steps, validation_loader=test_loader, \\\n",
    "                                device=device, save=save+'group_dro', eval_steps=10)\n",
    "\n",
    "print('Test accuracy: %.3f' % utils.eval.accuracy(global_model, test_set))"
   ]
  },
  {
   "cell_type": "markdown",
   "id": "8c98d86b",
   "metadata": {},
   "source": [
    "## Federated Learning Algorithms"
   ]
  },
  {
   "cell_type": "markdown",
   "id": "6a356bfd",
   "metadata": {},
   "source": [
    "### Federated Avg. (McMahan et al. 2017)"
   ]
  },
  {
   "cell_type": "code",
   "execution_count": 6,
   "id": "33867366",
   "metadata": {},
   "outputs": [
    {
     "name": "stdout",
     "output_type": "stream",
     "text": [
      "Test accuracy: 0.675\n"
     ]
    }
   ],
   "source": [
    "from flsuite.algs import fed_avg\n",
    "\n",
    "torch.manual_seed(seed)\n",
    "train_loaders = data.build_dataloaders(train_sets, batch_size)\n",
    "\n",
    "models = flsuite.models.model_loader('RMNIST', num_clients, seed)\n",
    "\n",
    "global_model = fed_avg(models, train_loaders, rounds, local_steps, device=device, save=save+'fed_avg')\n",
    "print('Test accuracy: %.3f' % utils.eval.accuracy(global_model, test_set))"
   ]
  },
  {
   "cell_type": "markdown",
   "id": "ae7325ab",
   "metadata": {},
   "source": [
    "### Agnostic Federated Learning (Mohri et al. 2019)"
   ]
  },
  {
   "cell_type": "code",
   "execution_count": 7,
   "id": "607afe95",
   "metadata": {},
   "outputs": [
    {
     "name": "stdout",
     "output_type": "stream",
     "text": [
      "Test accuracy: 0.730\n"
     ]
    }
   ],
   "source": [
    "from flsuite.algs import afl\n",
    "\n",
    "torch.manual_seed(seed)\n",
    "train_loaders = data.build_dataloaders(train_sets, batch_size)\n",
    "\n",
    "models = flsuite.models.model_loader('RMNIST', num_clients, seed)\n",
    "\n",
    "global_model = afl(models, train_loaders, rounds, local_steps, step_size_lambda=0.1, device=device, save=save+'afl')\n",
    "print('Test accuracy: %.3f' % utils.eval.accuracy(global_model, test_set))"
   ]
  },
  {
   "cell_type": "markdown",
   "id": "55632e2d",
   "metadata": {},
   "source": [
    "###  q-Fair FL (Li et. al 2019)"
   ]
  },
  {
   "cell_type": "code",
   "execution_count": 8,
   "id": "08080561",
   "metadata": {},
   "outputs": [
    {
     "name": "stdout",
     "output_type": "stream",
     "text": [
      "Test accuracy: 0.639\n"
     ]
    }
   ],
   "source": [
    "from flsuite.algs import q_fair\n",
    "\n",
    "torch.manual_seed(seed)\n",
    "train_loaders = data.build_dataloaders(train_sets, batch_size)\n",
    "\n",
    "models = flsuite.models.model_loader('RMNIST', num_clients, seed)\n",
    "\n",
    "global_model = q_fair(models, train_loaders, rounds, local_steps, device=device, save=save+'q_ffl')\n",
    "print('Test accuracy: %.3f' % utils.eval.accuracy(global_model, test_set))"
   ]
  },
  {
   "cell_type": "markdown",
   "id": "dbd510b6",
   "metadata": {},
   "source": [
    "### Proportional Fairness FL (Zhang et al. 2022)"
   ]
  },
  {
   "cell_type": "code",
   "execution_count": 9,
   "id": "2c566d66",
   "metadata": {},
   "outputs": [
    {
     "name": "stdout",
     "output_type": "stream",
     "text": [
      "Test accuracy: 0.635\n"
     ]
    }
   ],
   "source": [
    "from flsuite.algs import prop_fair\n",
    "\n",
    "torch.manual_seed(seed)\n",
    "train_loaders = data.build_dataloaders(train_sets, batch_size)\n",
    "\n",
    "models = flsuite.models.model_loader('RMNIST', num_clients, seed)\n",
    "\n",
    "global_model = prop_fair(models, train_loaders, rounds, local_steps, base=2, device=device, save=save+'prop_fair')\n",
    "print('Test accuracy: %.3f' % utils.eval.accuracy(global_model, test_set))\n",
    "# base = 4 - Test accuracy: 0.545\n",
    "# base = 5 - Test accuracy: 0.515\n",
    "# base = 6 - Test accuracy: 0.496"
   ]
  },
  {
   "cell_type": "markdown",
   "id": "10da338c",
   "metadata": {},
   "source": [
    "### extra: Federated Avg. + Invariant Risk Minimization"
   ]
  },
  {
   "cell_type": "code",
   "execution_count": 16,
   "id": "323d4e15",
   "metadata": {},
   "outputs": [
    {
     "name": "stdout",
     "output_type": "stream",
     "text": [
      "Test accuracy: 0.115\n"
     ]
    }
   ],
   "source": [
    "from flsuite.algs.trainers import IRM\n",
    "from flsuite.algs import fed_avg\n",
    "\n",
    "torch.manual_seed(seed)\n",
    "train_loaders = data.build_dataloaders(train_sets, batch_size)\n",
    "\n",
    "models = flsuite.models.model_loader('RMNIST', num_clients, seed)\n",
    "models = [IRM.bind_to(model) for model in models]\n",
    "global_model = fed_avg(models, train_loaders, rounds, local_steps, device=device, save=save+'fed_avg_irm')\n",
    "print('Test accuracy: %.3f' % utils.eval.accuracy(global_model, test_set))"
   ]
  }
 ],
 "metadata": {
  "kernelspec": {
   "display_name": "Python 3",
   "language": "python",
   "name": "python3"
  },
  "language_info": {
   "codemirror_mode": {
    "name": "ipython",
    "version": 3
   },
   "file_extension": ".py",
   "mimetype": "text/x-python",
   "name": "python",
   "nbconvert_exporter": "python",
   "pygments_lexer": "ipython3",
   "version": "3.6.9"
  }
 },
 "nbformat": 4,
 "nbformat_minor": 5
}
