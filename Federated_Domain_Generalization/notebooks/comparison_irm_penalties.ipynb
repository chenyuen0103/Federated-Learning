{
 "cells": [
  {
   "cell_type": "markdown",
   "id": "17c213ae",
   "metadata": {},
   "source": [
    "# Comparing variations of the Invariant Risk Minimization (IRM) principle\n",
    "\n",
    "This notebook illustrates the differences in implementation from the scalar formulation of the regularization term in IRMv1 and the theoretical formulation presented in the same work by Arjovski et al. (2019)\n",
    "\n",
    "Some implementation details were inspired by the original implementation of [Arjovski et al. (2019)](https://github.com/facebookresearch/InvariantRiskMinimization) while others were taken from [Gulrajani and David Lopez-Paz (2020)](https://github.com/facebookresearch/DomainBed), also refered as `DomainBed`\n",
    "\n",
    "\n",
    "*Note: in order to render the autograd graphs, please install [torchviz](https://github.com/szagoruyko/pytorchviz)*\n",
    "\n",
    "Copyright (C) 2019. Huawei Technologies Co., Ltd. All rights reserved.\n",
    "This program is free software; you can redistribute it and/or modify\n",
    "it under the terms of the Apache 2.0 License.\n",
    "This program is distributed in the hope that it will be useful,\n",
    "but WITHOUT ANY WARRANTY; without even the implied warranty of\n",
    "MERCHANTABILITY or FITNESS FOR A PARTICULAR PURPOSE. See the\n",
    "Apache 2.0 License for more details.\n"
   ]
  },
  {
   "cell_type": "code",
   "execution_count": 1,
   "id": "f5be7a5c",
   "metadata": {},
   "outputs": [],
   "source": [
    "import os\n",
    "\n",
    "import torch\n",
    "import torch.nn as nn\n",
    "import torch.nn.functional as F\n",
    "import torch.autograd as autograd\n",
    "from torchviz import make_dot\n",
    "\n",
    "import flsuite.data as data\n",
    "import flsuite.utils as utils\n",
    "\n",
    "seed = 0\n",
    "epochs = 60\n",
    "batch_size = 64\n",
    "weight_decay = 0.001 # as in original implementation\n",
    "anneal = 500 # in steps as in DomainBed (original implementation is too early: 100)\n",
    "penalty_coef = 1e2 # as in DomainBed (original implementation is too high: 1e4)\n",
    "\n",
    "os.environ['CUDA_VISIBLE_DEVICES'] = str(1)\n",
    "device = torch.device('cuda')"
   ]
  },
  {
   "cell_type": "markdown",
   "id": "66ceb0c2",
   "metadata": {},
   "source": [
    "#### The dataset used for this experiment is ColoredMNIST\n",
    "\n",
    "More information in [Gulrajani and David Lopez-Paz (2020)](https://arxiv.org/abs/2007.01434)"
   ]
  },
  {
   "cell_type": "code",
   "execution_count": 2,
   "id": "85718289",
   "metadata": {},
   "outputs": [],
   "source": [
    "# load colored MNIST dataset\n",
    "dataset = data.datasets.ColoredMNIST('../data/datasets')\n",
    "train_set = data.merge_datasets(dataset.datasets[:-1])\n",
    "test_set = dataset.datasets[-1]\n",
    "\n",
    "train_dataloader = data.build_dataloaders([(train_set[0], train_set[1].float())], batch_size)[0]\n",
    "\n",
    "# to calculate the autograd graphs\n",
    "X_batch = train_set[0][:batch_size].to(device)\n",
    "y_batch = train_set[1][:batch_size].to(torch.float)"
   ]
  },
  {
   "cell_type": "markdown",
   "id": "91cb8b17",
   "metadata": {},
   "source": [
    "#### The model is a simple multilayer perceptron for binary classification"
   ]
  },
  {
   "cell_type": "code",
   "execution_count": 10,
   "id": "373c4ffe",
   "metadata": {},
   "outputs": [],
   "source": [
    "class MLP(nn.Module):\n",
    "    def __init__(self, seed = None):\n",
    "        super().__init__()\n",
    "        if seed is not None:\n",
    "            torch.manual_seed(seed)\n",
    "        self.lin1 = nn.Linear(28*28*2, 256)\n",
    "        self.lin2 = nn.Linear(256, 256)\n",
    "        self.out = nn.Linear(256, 1, bias=False)\n",
    "\n",
    "        self.criterion = nn.BCELoss()\n",
    "        \n",
    "    def forward(self, x):\n",
    "        x = F.relu(self.lin1(x.view(x.shape[0], -1)))\n",
    "        x = F.relu(self.lin2(x))\n",
    "        return torch.sigmoid(self.out(x).view(-1))\n",
    "\n",
    "def acc(model, dataset):\n",
    "    output = model(dataset[0].to(device)).cpu()\n",
    "    return (dataset[1] == output.round()).sum() / len(dataset[1])"
   ]
  },
  {
   "cell_type": "markdown",
   "id": "91448c71",
   "metadata": {},
   "source": [
    "#### Definition of the different IRM penalties\n",
    "Obs.: In the implementation of DomainBed, a minibatch is splitted into two other batches to obtain a unbiased estimate on the norm of the gradient. This approach, however, does not guarantee that the overall result for the penalty is positive, what comes in conflict with the original intent"
   ]
  },
  {
   "cell_type": "code",
   "execution_count": 11,
   "id": "dd6b1ced",
   "metadata": {},
   "outputs": [],
   "source": [
    "def irm_penalty_scalar(model, loss_fn, logits, y): # as in IRMv1\n",
    "    scale = torch.tensor(1., device=logits.device).requires_grad_()\n",
    "    loss = loss_fn(logits * scale, y)\n",
    "    grad = autograd.grad(loss, [scale], create_graph=True)[0]\n",
    "    return torch.sum(grad**2)\n",
    "\n",
    "def irm_penalty_weights(model, loss_fn, logits, y): # as in original formulation\n",
    "    loss = loss_fn(logits, y)\n",
    "    grad = autograd.grad(loss, [model.out.weight], create_graph=True, retain_graph=True)[0]\n",
    "    return torch.sum(grad**2)"
   ]
  },
  {
   "cell_type": "markdown",
   "id": "340bbdbf",
   "metadata": {},
   "source": [
    "#### Training function"
   ]
  },
  {
   "cell_type": "code",
   "execution_count": 12,
   "id": "0f8b0a0f",
   "metadata": {},
   "outputs": [],
   "source": [
    "def train(model, loss_func, optimizer, penalty_fn):\n",
    "    \n",
    "    #cast to device if necessary\n",
    "    if next(model.parameters()).device != device:\n",
    "        model.to(device)\n",
    "\n",
    "    update_count = 0\n",
    "    penalty_weight = 1.0 # as in domainbed\n",
    "    \n",
    "    for epoch in range(epochs):\n",
    "        base_loss, base_penalty = 0.0, 0.0\n",
    "                    \n",
    "        for i, (images, target) in enumerate(train_dataloader):\n",
    "            \n",
    "            # cast batches to device\n",
    "            images, target = images.to(device), target.to(device)\n",
    "            outputs = model(images)\n",
    "\n",
    "            loss = loss_func(outputs, target)\n",
    "            penalty = penalty_fn(model, loss_fn, outputs, target)\n",
    "            base_loss += loss\n",
    "            base_penalty += penalty\n",
    "\n",
    "            update_count += 1\n",
    "            \n",
    "            if update_count == anneal:\n",
    "                penalty_weight = penalty_coef\n",
    "                # avoid any optimization hickups when changing the penalization term\n",
    "                optimizer = optimizer.__class__(model.parameters(), **optimizer.defaults)\n",
    "        \n",
    "        base_loss /= len(train_dataloader)\n",
    "        base_penalty /= len(train_dataloader)\n",
    "\n",
    "        optimizer.zero_grad()\n",
    "        \n",
    "        total_loss = base_loss + penalty_weight*base_penalty\n",
    "        total_loss.backward()\n",
    "        \n",
    "        optimizer.step()\n",
    "        \n",
    "        if epoch % 5 == 0:\n",
    "            print(f'[epoch {epoch:02d}] Loss: {total_loss.item():.4f} | Base loss: {base_loss.item():.4f} | Penalty: {base_penalty.item():.4f}')\n",
    "\n",
    "    return model"
   ]
  },
  {
   "cell_type": "markdown",
   "id": "9917a353",
   "metadata": {},
   "source": [
    "### Case 1: training with scalar IRM penalty term"
   ]
  },
  {
   "cell_type": "code",
   "execution_count": 13,
   "id": "2cd163bd",
   "metadata": {
    "scrolled": false
   },
   "outputs": [
    {
     "name": "stdout",
     "output_type": "stream",
     "text": [
      "[epoch 00] Loss: 2.3355 | Base loss: 0.6900 | Penalty: 0.0165\n",
      "[epoch 05] Loss: 2.3505 | Base loss: 0.6560 | Penalty: 0.0169\n",
      "[epoch 10] Loss: 2.2336 | Base loss: 0.6623 | Penalty: 0.0157\n",
      "[epoch 15] Loss: 2.1962 | Base loss: 0.6475 | Penalty: 0.0155\n",
      "[epoch 20] Loss: 2.2387 | Base loss: 0.6259 | Penalty: 0.0161\n",
      "[epoch 25] Loss: 2.1892 | Base loss: 0.6150 | Penalty: 0.0157\n",
      "[epoch 30] Loss: 2.1523 | Base loss: 0.6129 | Penalty: 0.0154\n",
      "[epoch 35] Loss: 2.2255 | Base loss: 0.6228 | Penalty: 0.0160\n",
      "[epoch 40] Loss: 2.1309 | Base loss: 0.6226 | Penalty: 0.0151\n",
      "[epoch 45] Loss: 2.1730 | Base loss: 0.6247 | Penalty: 0.0155\n",
      "[epoch 50] Loss: 2.3253 | Base loss: 0.6237 | Penalty: 0.0170\n",
      "[epoch 55] Loss: 2.3237 | Base loss: 0.6171 | Penalty: 0.0171\n",
      "Train accuracy: 0.84908\n",
      "Test accuracy: 0.09874\n"
     ]
    },
    {
     "name": "stderr",
     "output_type": "stream",
     "text": [
      "/home/artur/.local/lib/python3.6/site-packages/torchviz/dot.py:68: UserWarning: make_dot: showing grad_fn attributes and saved variables requires PyTorch version >= 1.9. (This does NOT apply to saved tensors saved by custom autograd functions.)\n",
      "  \"make_dot: showing grad_fn attributes and saved variables\"\n"
     ]
    },
    {
     "data": {
      "image/svg+xml": "<?xml version=\"1.0\" encoding=\"UTF-8\" standalone=\"no\"?>\n<!DOCTYPE svg PUBLIC \"-//W3C//DTD SVG 1.1//EN\"\n \"http://www.w3.org/Graphics/SVG/1.1/DTD/svg11.dtd\">\n<!-- Generated by graphviz version 2.40.1 (20161225.0304)\n -->\n<!-- Title: %3 Pages: 1 -->\n<svg width=\"371pt\" height=\"864pt\"\n viewBox=\"0.00 0.00 371.30 864.00\" xmlns=\"http://www.w3.org/2000/svg\" xmlns:xlink=\"http://www.w3.org/1999/xlink\">\n<g id=\"graph0\" class=\"graph\" transform=\"scale(.7883 .7883) rotate(0) translate(4 1092)\">\n<title>%3</title>\n<polygon fill=\"#ffffff\" stroke=\"transparent\" points=\"-4,4 -4,-1092 467,-1092 467,4 -4,4\"/>\n<!-- 140560463843192 -->\n<g id=\"node1\" class=\"node\">\n<title>140560463843192</title>\n<polygon fill=\"#caff70\" stroke=\"#000000\" points=\"360.5,-31 306.5,-31 306.5,0 360.5,0 360.5,-31\"/>\n<text text-anchor=\"middle\" x=\"333.5\" y=\"-7\" font-family=\"monospace\" font-size=\"10.00\" fill=\"#000000\"> ()</text>\n</g>\n<!-- 140560463911344 -->\n<g id=\"node2\" class=\"node\">\n<title>140560463911344</title>\n<polygon fill=\"#d3d3d3\" stroke=\"#000000\" points=\"378,-86 289,-86 289,-67 378,-67 378,-86\"/>\n<text text-anchor=\"middle\" x=\"333.5\" y=\"-74\" font-family=\"monospace\" font-size=\"10.00\" fill=\"#000000\">AddBackward0</text>\n</g>\n<!-- 140560463911344&#45;&gt;140560463843192 -->\n<g id=\"edge33\" class=\"edge\">\n<title>140560463911344&#45;&gt;140560463843192</title>\n<path fill=\"none\" stroke=\"#000000\" d=\"M333.5,-66.9688C333.5,-60.1289 333.5,-50.5621 333.5,-41.5298\"/>\n<polygon fill=\"#000000\" stroke=\"#000000\" points=\"337.0001,-41.3678 333.5,-31.3678 330.0001,-41.3678 337.0001,-41.3678\"/>\n</g>\n<!-- 140560463912744 -->\n<g id=\"node3\" class=\"node\">\n<title>140560463912744</title>\n<polygon fill=\"#d3d3d3\" stroke=\"#000000\" points=\"463,-361 290,-361 290,-342 463,-342 463,-361\"/>\n<text text-anchor=\"middle\" x=\"376.5\" y=\"-349\" font-family=\"monospace\" font-size=\"10.00\" fill=\"#000000\">BinaryCrossEntropyBackward</text>\n</g>\n<!-- 140560463912744&#45;&gt;140560463911344 -->\n<g id=\"edge1\" class=\"edge\">\n<title>140560463912744&#45;&gt;140560463911344</title>\n<path fill=\"none\" stroke=\"#000000\" d=\"M376.0573,-341.7908C375.2228,-322.6229 373.5,-278.5624 373.5,-241.5 373.5,-241.5 373.5,-241.5 373.5,-186.5 373.5,-152.6431 356.5566,-116.2624 344.7245,-94.9842\"/>\n<polygon fill=\"#000000\" stroke=\"#000000\" points=\"347.6116,-92.9851 339.5751,-86.0811 341.5521,-96.4899 347.6116,-92.9851\"/>\n</g>\n<!-- 140570933324936 -->\n<g id=\"node4\" class=\"node\">\n<title>140570933324936</title>\n<polygon fill=\"#d3d3d3\" stroke=\"#000000\" points=\"309,-471 214,-471 214,-452 309,-452 309,-471\"/>\n<text text-anchor=\"middle\" x=\"261.5\" y=\"-459\" font-family=\"monospace\" font-size=\"10.00\" fill=\"#000000\">CopyBackwards</text>\n</g>\n<!-- 140570933324936&#45;&gt;140560463912744 -->\n<g id=\"edge2\" class=\"edge\">\n<title>140570933324936&#45;&gt;140560463912744</title>\n<path fill=\"none\" stroke=\"#000000\" d=\"M271.7055,-451.7382C291.3617,-432.9367 334.6764,-391.5052 359.0162,-368.2236\"/>\n<polygon fill=\"#000000\" stroke=\"#000000\" points=\"361.6744,-370.5243 366.4816,-361.0828 356.8359,-365.4658 361.6744,-370.5243\"/>\n</g>\n<!-- 140560502089712 -->\n<g id=\"node28\" class=\"node\">\n<title>140560502089712</title>\n<polygon fill=\"#d3d3d3\" stroke=\"#000000\" points=\"306,-306 217,-306 217,-287 306,-287 306,-306\"/>\n<text text-anchor=\"middle\" x=\"261.5\" y=\"-294\" font-family=\"monospace\" font-size=\"10.00\" fill=\"#000000\">MulBackward0</text>\n</g>\n<!-- 140570933324936&#45;&gt;140560502089712 -->\n<g id=\"edge32\" class=\"edge\">\n<title>140570933324936&#45;&gt;140560502089712</title>\n<path fill=\"none\" stroke=\"#000000\" d=\"M261.5,-451.6726C261.5,-425.1291 261.5,-351.6086 261.5,-316.1401\"/>\n<polygon fill=\"#000000\" stroke=\"#000000\" points=\"265.0001,-316.0691 261.5,-306.0692 258.0001,-316.0692 265.0001,-316.0691\"/>\n</g>\n<!-- 140560502091392 -->\n<g id=\"node30\" class=\"node\">\n<title>140560502091392</title>\n<polygon fill=\"#d3d3d3\" stroke=\"#000000\" points=\"179,-416 90,-416 90,-397 179,-397 179,-416\"/>\n<text text-anchor=\"middle\" x=\"134.5\" y=\"-404\" font-family=\"monospace\" font-size=\"10.00\" fill=\"#000000\">MulBackward0</text>\n</g>\n<!-- 140570933324936&#45;&gt;140560502091392 -->\n<g id=\"edge29\" class=\"edge\">\n<title>140570933324936&#45;&gt;140560502091392</title>\n<path fill=\"none\" stroke=\"#000000\" d=\"M239.3783,-451.9197C219.1064,-443.1406 188.8692,-430.0457 166.0628,-420.1689\"/>\n<polygon fill=\"#000000\" stroke=\"#000000\" points=\"167.3617,-416.9174 156.7943,-416.155 164.5798,-423.3409 167.3617,-416.9174\"/>\n</g>\n<!-- 140570933324264 -->\n<g id=\"node5\" class=\"node\">\n<title>140570933324264</title>\n<polygon fill=\"#d3d3d3\" stroke=\"#000000\" points=\"315,-532 208,-532 208,-513 315,-513 315,-532\"/>\n<text text-anchor=\"middle\" x=\"261.5\" y=\"-520\" font-family=\"monospace\" font-size=\"10.00\" fill=\"#000000\">SigmoidBackward</text>\n</g>\n<!-- 140570933324264&#45;&gt;140570933324936 -->\n<g id=\"edge3\" class=\"edge\">\n<title>140570933324264&#45;&gt;140570933324936</title>\n<path fill=\"none\" stroke=\"#000000\" d=\"M261.5,-512.9688C261.5,-504.5131 261.5,-491.8901 261.5,-481.2615\"/>\n<polygon fill=\"#000000\" stroke=\"#000000\" points=\"265.0001,-481.1656 261.5,-471.1656 258.0001,-481.1657 265.0001,-481.1656\"/>\n</g>\n<!-- 140570933324600 -->\n<g id=\"node6\" class=\"node\">\n<title>140570933324600</title>\n<polygon fill=\"#d3d3d3\" stroke=\"#000000\" points=\"306,-593 217,-593 217,-574 306,-574 306,-593\"/>\n<text text-anchor=\"middle\" x=\"261.5\" y=\"-581\" font-family=\"monospace\" font-size=\"10.00\" fill=\"#000000\">ViewBackward</text>\n</g>\n<!-- 140570933324600&#45;&gt;140570933324264 -->\n<g id=\"edge4\" class=\"edge\">\n<title>140570933324600&#45;&gt;140570933324264</title>\n<path fill=\"none\" stroke=\"#000000\" d=\"M261.5,-573.9688C261.5,-565.5131 261.5,-552.8901 261.5,-542.2615\"/>\n<polygon fill=\"#000000\" stroke=\"#000000\" points=\"265.0001,-542.1656 261.5,-532.1656 258.0001,-542.1657 265.0001,-542.1656\"/>\n</g>\n<!-- 140560502091168 -->\n<g id=\"node7\" class=\"node\">\n<title>140560502091168</title>\n<polygon fill=\"#d3d3d3\" stroke=\"#000000\" points=\"300,-648 223,-648 223,-629 300,-629 300,-648\"/>\n<text text-anchor=\"middle\" x=\"261.5\" y=\"-636\" font-family=\"monospace\" font-size=\"10.00\" fill=\"#000000\">MmBackward</text>\n</g>\n<!-- 140560502091168&#45;&gt;140570933324600 -->\n<g id=\"edge5\" class=\"edge\">\n<title>140560502091168&#45;&gt;140570933324600</title>\n<path fill=\"none\" stroke=\"#000000\" d=\"M261.5,-628.9197C261.5,-621.9083 261.5,-612.1442 261.5,-603.4652\"/>\n<polygon fill=\"#000000\" stroke=\"#000000\" points=\"265.0001,-603.3408 261.5,-593.3408 258.0001,-603.3409 265.0001,-603.3408\"/>\n</g>\n<!-- 140560502089376 -->\n<g id=\"node8\" class=\"node\">\n<title>140560502089376</title>\n<polygon fill=\"#d3d3d3\" stroke=\"#000000\" points=\"259,-703 164,-703 164,-684 259,-684 259,-703\"/>\n<text text-anchor=\"middle\" x=\"211.5\" y=\"-691\" font-family=\"monospace\" font-size=\"10.00\" fill=\"#000000\">ReluBackward0</text>\n</g>\n<!-- 140560502089376&#45;&gt;140560502091168 -->\n<g id=\"edge6\" class=\"edge\">\n<title>140560502089376&#45;&gt;140560502091168</title>\n<path fill=\"none\" stroke=\"#000000\" d=\"M220.2093,-683.9197C227.2207,-676.2072 237.2601,-665.1639 245.6838,-655.8978\"/>\n<polygon fill=\"#000000\" stroke=\"#000000\" points=\"248.4168,-658.0946 252.5538,-648.3408 243.2372,-653.3859 248.4168,-658.0946\"/>\n</g>\n<!-- 140560502091336 -->\n<g id=\"node9\" class=\"node\">\n<title>140560502091336</title>\n<polygon fill=\"#d3d3d3\" stroke=\"#000000\" points=\"252,-758 157,-758 157,-739 252,-739 252,-758\"/>\n<text text-anchor=\"middle\" x=\"204.5\" y=\"-746\" font-family=\"monospace\" font-size=\"10.00\" fill=\"#000000\">AddmmBackward</text>\n</g>\n<!-- 140560502091336&#45;&gt;140560502089376 -->\n<g id=\"edge7\" class=\"edge\">\n<title>140560502091336&#45;&gt;140560502089376</title>\n<path fill=\"none\" stroke=\"#000000\" d=\"M205.7193,-738.9197C206.6117,-731.9083 207.8544,-722.1442 208.959,-713.4652\"/>\n<polygon fill=\"#000000\" stroke=\"#000000\" points=\"212.4569,-713.7027 210.2475,-703.3408 205.5129,-712.8189 212.4569,-713.7027\"/>\n</g>\n<!-- 140560502090720 -->\n<g id=\"node10\" class=\"node\">\n<title>140560502090720</title>\n<polygon fill=\"#d3d3d3\" stroke=\"#000000\" points=\"101,-818.5 0,-818.5 0,-799.5 101,-799.5 101,-818.5\"/>\n<text text-anchor=\"middle\" x=\"50.5\" y=\"-806.5\" font-family=\"monospace\" font-size=\"10.00\" fill=\"#000000\">AccumulateGrad</text>\n</g>\n<!-- 140560502090720&#45;&gt;140560502091336 -->\n<g id=\"edge8\" class=\"edge\">\n<title>140560502090720&#45;&gt;140560502091336</title>\n<path fill=\"none\" stroke=\"#000000\" d=\"M74.9018,-799.4136C100.8092,-789.2357 141.9339,-773.0795 170.8962,-761.7015\"/>\n<polygon fill=\"#000000\" stroke=\"#000000\" points=\"172.1847,-764.9558 180.2124,-758.0416 169.6251,-758.4405 172.1847,-764.9558\"/>\n</g>\n<!-- 140560502081360 -->\n<g id=\"node11\" class=\"node\">\n<title>140560502081360</title>\n<polygon fill=\"#add8e6\" stroke=\"#000000\" points=\"86,-890 15,-890 15,-860 86,-860 86,-890\"/>\n<text text-anchor=\"middle\" x=\"50.5\" y=\"-878\" font-family=\"monospace\" font-size=\"10.00\" fill=\"#000000\">lin2.bias</text>\n<text text-anchor=\"middle\" x=\"50.5\" y=\"-867\" font-family=\"monospace\" font-size=\"10.00\" fill=\"#000000\"> (256)</text>\n</g>\n<!-- 140560502081360&#45;&gt;140560502090720 -->\n<g id=\"edge9\" class=\"edge\">\n<title>140560502081360&#45;&gt;140560502090720</title>\n<path fill=\"none\" stroke=\"#000000\" d=\"M50.5,-859.6924C50.5,-850.5067 50.5,-838.7245 50.5,-828.8312\"/>\n<polygon fill=\"#000000\" stroke=\"#000000\" points=\"54.0001,-828.703 50.5,-818.7031 47.0001,-828.7031 54.0001,-828.703\"/>\n</g>\n<!-- 140560502089320 -->\n<g id=\"node12\" class=\"node\">\n<title>140560502089320</title>\n<polygon fill=\"#d3d3d3\" stroke=\"#000000\" points=\"214,-818.5 119,-818.5 119,-799.5 214,-799.5 214,-818.5\"/>\n<text text-anchor=\"middle\" x=\"166.5\" y=\"-806.5\" font-family=\"monospace\" font-size=\"10.00\" fill=\"#000000\">ReluBackward0</text>\n</g>\n<!-- 140560502089320&#45;&gt;140560502091336 -->\n<g id=\"edge10\" class=\"edge\">\n<title>140560502089320&#45;&gt;140560502091336</title>\n<path fill=\"none\" stroke=\"#000000\" d=\"M172.6054,-799.2796C178.0575,-790.5992 186.1919,-777.6485 192.881,-766.9987\"/>\n<polygon fill=\"#000000\" stroke=\"#000000\" points=\"195.9285,-768.727 198.2836,-758.3972 190.0008,-765.0038 195.9285,-768.727\"/>\n</g>\n<!-- 140560502090272 -->\n<g id=\"node13\" class=\"node\">\n<title>140560502090272</title>\n<polygon fill=\"#d3d3d3\" stroke=\"#000000\" points=\"206,-884.5 111,-884.5 111,-865.5 206,-865.5 206,-884.5\"/>\n<text text-anchor=\"middle\" x=\"158.5\" y=\"-872.5\" font-family=\"monospace\" font-size=\"10.00\" fill=\"#000000\">AddmmBackward</text>\n</g>\n<!-- 140560502090272&#45;&gt;140560502089320 -->\n<g id=\"edge11\" class=\"edge\">\n<title>140560502090272&#45;&gt;140560502089320</title>\n<path fill=\"none\" stroke=\"#000000\" d=\"M159.6804,-865.2615C160.8385,-855.7077 162.638,-840.8615 164.0978,-828.8183\"/>\n<polygon fill=\"#000000\" stroke=\"#000000\" points=\"167.5859,-829.127 165.3147,-818.7785 160.6368,-828.2846 167.5859,-829.127\"/>\n</g>\n<!-- 140560502090944 -->\n<g id=\"node14\" class=\"node\">\n<title>140560502090944</title>\n<polygon fill=\"#d3d3d3\" stroke=\"#000000\" points=\"116,-950.5 15,-950.5 15,-931.5 116,-931.5 116,-950.5\"/>\n<text text-anchor=\"middle\" x=\"65.5\" y=\"-938.5\" font-family=\"monospace\" font-size=\"10.00\" fill=\"#000000\">AccumulateGrad</text>\n</g>\n<!-- 140560502090944&#45;&gt;140560502090272 -->\n<g id=\"edge12\" class=\"edge\">\n<title>140560502090944&#45;&gt;140560502090272</title>\n<path fill=\"none\" stroke=\"#000000\" d=\"M79.2225,-931.2615C94.2817,-920.5743 118.6728,-903.2644 136.4281,-890.6639\"/>\n<polygon fill=\"#000000\" stroke=\"#000000\" points=\"138.8941,-893.2057 145.0236,-884.5639 134.8429,-887.4971 138.8941,-893.2057\"/>\n</g>\n<!-- 140560502082728 -->\n<g id=\"node15\" class=\"node\">\n<title>140560502082728</title>\n<polygon fill=\"#add8e6\" stroke=\"#000000\" points=\"101,-1022 30,-1022 30,-992 101,-992 101,-1022\"/>\n<text text-anchor=\"middle\" x=\"65.5\" y=\"-1010\" font-family=\"monospace\" font-size=\"10.00\" fill=\"#000000\">lin1.bias</text>\n<text text-anchor=\"middle\" x=\"65.5\" y=\"-999\" font-family=\"monospace\" font-size=\"10.00\" fill=\"#000000\"> (256)</text>\n</g>\n<!-- 140560502082728&#45;&gt;140560502090944 -->\n<g id=\"edge13\" class=\"edge\">\n<title>140560502082728&#45;&gt;140560502090944</title>\n<path fill=\"none\" stroke=\"#000000\" d=\"M65.5,-991.6924C65.5,-982.5067 65.5,-970.7245 65.5,-960.8312\"/>\n<polygon fill=\"#000000\" stroke=\"#000000\" points=\"69.0001,-960.703 65.5,-950.7031 62.0001,-960.7031 69.0001,-960.703\"/>\n</g>\n<!-- 140560502089208 -->\n<g id=\"node16\" class=\"node\">\n<title>140560502089208</title>\n<polygon fill=\"#d3d3d3\" stroke=\"#000000\" points=\"205,-950.5 134,-950.5 134,-931.5 205,-931.5 205,-950.5\"/>\n<text text-anchor=\"middle\" x=\"169.5\" y=\"-938.5\" font-family=\"monospace\" font-size=\"10.00\" fill=\"#000000\">TBackward</text>\n</g>\n<!-- 140560502089208&#45;&gt;140560502090272 -->\n<g id=\"edge14\" class=\"edge\">\n<title>140560502089208&#45;&gt;140560502090272</title>\n<path fill=\"none\" stroke=\"#000000\" d=\"M167.8769,-931.2615C166.2846,-921.7077 163.8103,-906.8615 161.8031,-894.8183\"/>\n<polygon fill=\"#000000\" stroke=\"#000000\" points=\"165.2262,-894.067 160.1297,-884.7785 158.3214,-895.2178 165.2262,-894.067\"/>\n</g>\n<!-- 140560502090496 -->\n<g id=\"node17\" class=\"node\">\n<title>140560502090496</title>\n<polygon fill=\"#d3d3d3\" stroke=\"#000000\" points=\"220,-1016.5 119,-1016.5 119,-997.5 220,-997.5 220,-1016.5\"/>\n<text text-anchor=\"middle\" x=\"169.5\" y=\"-1004.5\" font-family=\"monospace\" font-size=\"10.00\" fill=\"#000000\">AccumulateGrad</text>\n</g>\n<!-- 140560502090496&#45;&gt;140560502089208 -->\n<g id=\"edge15\" class=\"edge\">\n<title>140560502090496&#45;&gt;140560502089208</title>\n<path fill=\"none\" stroke=\"#000000\" d=\"M169.5,-997.2615C169.5,-987.7077 169.5,-972.8615 169.5,-960.8183\"/>\n<polygon fill=\"#000000\" stroke=\"#000000\" points=\"173.0001,-960.7784 169.5,-950.7785 166.0001,-960.7785 173.0001,-960.7784\"/>\n</g>\n<!-- 140560502083088 -->\n<g id=\"node18\" class=\"node\">\n<title>140560502083088</title>\n<polygon fill=\"#add8e6\" stroke=\"#000000\" points=\"214,-1088 125,-1088 125,-1058 214,-1058 214,-1088\"/>\n<text text-anchor=\"middle\" x=\"169.5\" y=\"-1076\" font-family=\"monospace\" font-size=\"10.00\" fill=\"#000000\">lin1.weight</text>\n<text text-anchor=\"middle\" x=\"169.5\" y=\"-1065\" font-family=\"monospace\" font-size=\"10.00\" fill=\"#000000\"> (256, 1568)</text>\n</g>\n<!-- 140560502083088&#45;&gt;140560502090496 -->\n<g id=\"edge16\" class=\"edge\">\n<title>140560502083088&#45;&gt;140560502090496</title>\n<path fill=\"none\" stroke=\"#000000\" d=\"M169.5,-1057.6924C169.5,-1048.5067 169.5,-1036.7245 169.5,-1026.8312\"/>\n<polygon fill=\"#000000\" stroke=\"#000000\" points=\"173.0001,-1026.703 169.5,-1016.7031 166.0001,-1026.7031 173.0001,-1026.703\"/>\n</g>\n<!-- 140560502088424 -->\n<g id=\"node19\" class=\"node\">\n<title>140560502088424</title>\n<polygon fill=\"#d3d3d3\" stroke=\"#000000\" points=\"303,-818.5 232,-818.5 232,-799.5 303,-799.5 303,-818.5\"/>\n<text text-anchor=\"middle\" x=\"267.5\" y=\"-806.5\" font-family=\"monospace\" font-size=\"10.00\" fill=\"#000000\">TBackward</text>\n</g>\n<!-- 140560502088424&#45;&gt;140560502091336 -->\n<g id=\"edge17\" class=\"edge\">\n<title>140560502088424&#45;&gt;140560502091336</title>\n<path fill=\"none\" stroke=\"#000000\" d=\"M257.378,-799.2796C247.8823,-790.1608 233.4794,-776.3294 222.102,-765.4035\"/>\n<polygon fill=\"#000000\" stroke=\"#000000\" points=\"224.4433,-762.7993 214.8062,-758.3972 219.5947,-767.8482 224.4433,-762.7993\"/>\n</g>\n<!-- 140560502088984 -->\n<g id=\"node20\" class=\"node\">\n<title>140560502088984</title>\n<polygon fill=\"#d3d3d3\" stroke=\"#000000\" points=\"325,-884.5 224,-884.5 224,-865.5 325,-865.5 325,-884.5\"/>\n<text text-anchor=\"middle\" x=\"274.5\" y=\"-872.5\" font-family=\"monospace\" font-size=\"10.00\" fill=\"#000000\">AccumulateGrad</text>\n</g>\n<!-- 140560502088984&#45;&gt;140560502088424 -->\n<g id=\"edge18\" class=\"edge\">\n<title>140560502088984&#45;&gt;140560502088424</title>\n<path fill=\"none\" stroke=\"#000000\" d=\"M273.4671,-865.2615C272.4538,-855.7077 270.8793,-840.8615 269.6019,-828.8183\"/>\n<polygon fill=\"#000000\" stroke=\"#000000\" points=\"273.0724,-828.3535 268.5371,-818.7785 266.1114,-829.0919 273.0724,-828.3535\"/>\n</g>\n<!-- 140560502082872 -->\n<g id=\"node21\" class=\"node\">\n<title>140560502082872</title>\n<polygon fill=\"#add8e6\" stroke=\"#000000\" points=\"316,-956 233,-956 233,-926 316,-926 316,-956\"/>\n<text text-anchor=\"middle\" x=\"274.5\" y=\"-944\" font-family=\"monospace\" font-size=\"10.00\" fill=\"#000000\">lin2.weight</text>\n<text text-anchor=\"middle\" x=\"274.5\" y=\"-933\" font-family=\"monospace\" font-size=\"10.00\" fill=\"#000000\"> (256, 256)</text>\n</g>\n<!-- 140560502082872&#45;&gt;140560502088984 -->\n<g id=\"edge19\" class=\"edge\">\n<title>140560502082872&#45;&gt;140560502088984</title>\n<path fill=\"none\" stroke=\"#000000\" d=\"M274.5,-925.6924C274.5,-916.5067 274.5,-904.7245 274.5,-894.8312\"/>\n<polygon fill=\"#000000\" stroke=\"#000000\" points=\"278.0001,-894.703 274.5,-884.7031 271.0001,-894.7031 278.0001,-894.703\"/>\n</g>\n<!-- 140560502091728 -->\n<g id=\"node22\" class=\"node\">\n<title>140560502091728</title>\n<polygon fill=\"#d3d3d3\" stroke=\"#000000\" points=\"361,-703 290,-703 290,-684 361,-684 361,-703\"/>\n<text text-anchor=\"middle\" x=\"325.5\" y=\"-691\" font-family=\"monospace\" font-size=\"10.00\" fill=\"#000000\">TBackward</text>\n</g>\n<!-- 140560502091728&#45;&gt;140560502091168 -->\n<g id=\"edge20\" class=\"edge\">\n<title>140560502091728&#45;&gt;140560502091168</title>\n<path fill=\"none\" stroke=\"#000000\" d=\"M314.3521,-683.9197C305.1055,-675.9735 291.7447,-664.4916 280.7704,-655.0605\"/>\n<polygon fill=\"#000000\" stroke=\"#000000\" points=\"282.8166,-652.2041 272.9511,-648.3408 278.2542,-657.513 282.8166,-652.2041\"/>\n</g>\n<!-- 140560502089264 -->\n<g id=\"node23\" class=\"node\">\n<title>140560502089264</title>\n<polygon fill=\"#d3d3d3\" stroke=\"#000000\" points=\"390,-758 289,-758 289,-739 390,-739 390,-758\"/>\n<text text-anchor=\"middle\" x=\"339.5\" y=\"-746\" font-family=\"monospace\" font-size=\"10.00\" fill=\"#000000\">AccumulateGrad</text>\n</g>\n<!-- 140560502089264&#45;&gt;140560502091728 -->\n<g id=\"edge21\" class=\"edge\">\n<title>140560502089264&#45;&gt;140560502091728</title>\n<path fill=\"none\" stroke=\"#000000\" d=\"M337.0614,-738.9197C335.2568,-731.8304 332.7359,-721.9269 330.5085,-713.1763\"/>\n<polygon fill=\"#000000\" stroke=\"#000000\" points=\"333.8636,-712.1684 328.0049,-703.3408 327.08,-713.8952 333.8636,-712.1684\"/>\n</g>\n<!-- 140560502080496 -->\n<g id=\"node24\" class=\"node\">\n<title>140560502080496</title>\n<polygon fill=\"#add8e6\" stroke=\"#000000\" points=\"398,-824 321,-824 321,-794 398,-794 398,-824\"/>\n<text text-anchor=\"middle\" x=\"359.5\" y=\"-812\" font-family=\"monospace\" font-size=\"10.00\" fill=\"#000000\">out.weight</text>\n<text text-anchor=\"middle\" x=\"359.5\" y=\"-801\" font-family=\"monospace\" font-size=\"10.00\" fill=\"#000000\"> (1, 256)</text>\n</g>\n<!-- 140560502080496&#45;&gt;140560502089264 -->\n<g id=\"edge22\" class=\"edge\">\n<title>140560502080496&#45;&gt;140560502089264</title>\n<path fill=\"none\" stroke=\"#000000\" d=\"M354.4532,-793.7333C351.8495,-785.8571 348.6464,-776.168 345.8737,-767.7803\"/>\n<polygon fill=\"#000000\" stroke=\"#000000\" points=\"349.131,-766.4825 342.6691,-758.0864 342.4847,-768.6796 349.131,-766.4825\"/>\n</g>\n<!-- 140560463912856 -->\n<g id=\"node25\" class=\"node\">\n<title>140560463912856</title>\n<polygon fill=\"#d3d3d3\" stroke=\"#000000\" points=\"342,-141 253,-141 253,-122 342,-122 342,-141\"/>\n<text text-anchor=\"middle\" x=\"297.5\" y=\"-129\" font-family=\"monospace\" font-size=\"10.00\" fill=\"#000000\">SumBackward0</text>\n</g>\n<!-- 140560463912856&#45;&gt;140560463911344 -->\n<g id=\"edge23\" class=\"edge\">\n<title>140560463912856&#45;&gt;140560463911344</title>\n<path fill=\"none\" stroke=\"#000000\" d=\"M303.7707,-121.9197C308.666,-114.4409 315.6112,-103.8301 321.5578,-94.745\"/>\n<polygon fill=\"#000000\" stroke=\"#000000\" points=\"324.5106,-96.6247 327.0587,-86.3408 318.6536,-92.791 324.5106,-96.6247\"/>\n</g>\n<!-- 140570933325720 -->\n<g id=\"node26\" class=\"node\">\n<title>140570933325720</title>\n<polygon fill=\"#d3d3d3\" stroke=\"#000000\" points=\"337,-196 248,-196 248,-177 337,-177 337,-196\"/>\n<text text-anchor=\"middle\" x=\"292.5\" y=\"-184\" font-family=\"monospace\" font-size=\"10.00\" fill=\"#000000\">PowBackward0</text>\n</g>\n<!-- 140570933325720&#45;&gt;140560463912856 -->\n<g id=\"edge24\" class=\"edge\">\n<title>140570933325720&#45;&gt;140560463912856</title>\n<path fill=\"none\" stroke=\"#000000\" d=\"M293.3709,-176.9197C294.0083,-169.9083 294.896,-160.1442 295.685,-151.4652\"/>\n<polygon fill=\"#000000\" stroke=\"#000000\" points=\"299.1856,-151.6167 296.6054,-141.3408 292.2143,-150.9829 299.1856,-151.6167\"/>\n</g>\n<!-- 140570933322080 -->\n<g id=\"node27\" class=\"node\">\n<title>140570933322080</title>\n<polygon fill=\"#d3d3d3\" stroke=\"#000000\" points=\"327,-251 238,-251 238,-232 327,-232 327,-251\"/>\n<text text-anchor=\"middle\" x=\"282.5\" y=\"-239\" font-family=\"monospace\" font-size=\"10.00\" fill=\"#000000\">SumBackward0</text>\n</g>\n<!-- 140570933322080&#45;&gt;140570933325720 -->\n<g id=\"edge25\" class=\"edge\">\n<title>140570933322080&#45;&gt;140570933325720</title>\n<path fill=\"none\" stroke=\"#000000\" d=\"M284.2419,-231.9197C285.5167,-224.9083 287.292,-215.1442 288.87,-206.4652\"/>\n<polygon fill=\"#000000\" stroke=\"#000000\" points=\"292.3654,-206.8057 290.7108,-196.3408 285.4783,-205.5534 292.3654,-206.8057\"/>\n</g>\n<!-- 140560502089712&#45;&gt;140570933322080 -->\n<g id=\"edge26\" class=\"edge\">\n<title>140560502089712&#45;&gt;140570933322080</title>\n<path fill=\"none\" stroke=\"#000000\" d=\"M265.1579,-286.9197C267.8945,-279.7525 271.7293,-269.7089 275.0972,-260.8882\"/>\n<polygon fill=\"#000000\" stroke=\"#000000\" points=\"278.4453,-261.9315 278.7426,-251.3408 271.9057,-259.4345 278.4453,-261.9315\"/>\n</g>\n<!-- 140560502091280 -->\n<g id=\"node29\" class=\"node\">\n<title>140560502091280</title>\n<polygon fill=\"#d3d3d3\" stroke=\"#000000\" points=\"233,-361 12,-361 12,-342 233,-342 233,-361\"/>\n<text text-anchor=\"middle\" x=\"122.5\" y=\"-349\" font-family=\"monospace\" font-size=\"10.00\" fill=\"#000000\">BinaryCrossEntropyBackwardBackward</text>\n</g>\n<!-- 140560502091280&#45;&gt;140560502089712 -->\n<g id=\"edge27\" class=\"edge\">\n<title>140560502091280&#45;&gt;140560502089712</title>\n<path fill=\"none\" stroke=\"#000000\" d=\"M146.712,-341.9197C169.0974,-333.0622 202.5854,-319.8115 227.6215,-309.9052\"/>\n<polygon fill=\"#000000\" stroke=\"#000000\" points=\"229.0883,-313.0889 237.0991,-306.155 226.5128,-306.5799 229.0883,-313.0889\"/>\n</g>\n<!-- 140560502091392&#45;&gt;140560502091280 -->\n<g id=\"edge28\" class=\"edge\">\n<title>140560502091392&#45;&gt;140560502091280</title>\n<path fill=\"none\" stroke=\"#000000\" d=\"M132.4098,-396.9197C130.863,-389.8304 128.7022,-379.9269 126.793,-371.1763\"/>\n<polygon fill=\"#000000\" stroke=\"#000000\" points=\"130.1984,-370.3649 124.6471,-361.3408 123.3593,-371.8571 130.1984,-370.3649\"/>\n</g>\n<!-- 140560502087864 -->\n<g id=\"node31\" class=\"node\">\n<title>140560502087864</title>\n<polygon fill=\"#d3d3d3\" stroke=\"#000000\" points=\"185,-471 84,-471 84,-452 185,-452 185,-471\"/>\n<text text-anchor=\"middle\" x=\"134.5\" y=\"-459\" font-family=\"monospace\" font-size=\"10.00\" fill=\"#000000\">AccumulateGrad</text>\n</g>\n<!-- 140560502087864&#45;&gt;140560502091392 -->\n<g id=\"edge30\" class=\"edge\">\n<title>140560502087864&#45;&gt;140560502091392</title>\n<path fill=\"none\" stroke=\"#000000\" d=\"M134.5,-451.9197C134.5,-444.9083 134.5,-435.1442 134.5,-426.4652\"/>\n<polygon fill=\"#000000\" stroke=\"#000000\" points=\"138.0001,-426.3408 134.5,-416.3408 131.0001,-426.3409 138.0001,-426.3408\"/>\n</g>\n<!-- 140560463913320 -->\n<g id=\"node32\" class=\"node\">\n<title>140560463913320</title>\n<polygon fill=\"#add8e6\" stroke=\"#000000\" points=\"161.5,-538 107.5,-538 107.5,-507 161.5,-507 161.5,-538\"/>\n<text text-anchor=\"middle\" x=\"134.5\" y=\"-514\" font-family=\"monospace\" font-size=\"10.00\" fill=\"#000000\"> ()</text>\n</g>\n<!-- 140560463913320&#45;&gt;140560502087864 -->\n<g id=\"edge31\" class=\"edge\">\n<title>140560463913320&#45;&gt;140560502087864</title>\n<path fill=\"none\" stroke=\"#000000\" d=\"M134.5,-506.791C134.5,-499.0249 134.5,-489.5706 134.5,-481.3129\"/>\n<polygon fill=\"#000000\" stroke=\"#000000\" points=\"138.0001,-481.0647 134.5,-471.0648 131.0001,-481.0648 138.0001,-481.0647\"/>\n</g>\n</g>\n</svg>\n",
      "text/plain": [
       "<graphviz.graphs.Digraph at 0x7fd6c8838f98>"
      ]
     },
     "execution_count": 13,
     "metadata": {},
     "output_type": "execute_result"
    }
   ],
   "source": [
    "model = MLP(seed)\n",
    "loss_fn = model.criterion\n",
    "optim = torch.optim.Adam(model.parameters(), weight_decay=0.001)\n",
    "\n",
    "model = train(model, loss_fn, optim, irm_penalty_scalar)\n",
    "\n",
    "print('Train accuracy: %.5f' % acc(model, train_set))\n",
    "print('Test accuracy: %.5f' % acc(model, (test_set[:][0],test_set[:][1])))\n",
    "\n",
    "output0 = model(X_batch).cpu()\n",
    "base_loss = model.criterion(output0, y_batch)\n",
    "penalty = irm_penalty_scalar(model, model.criterion, output0, y_batch)\n",
    "loss = base_loss + penalty\n",
    "\n",
    "make_dot(loss, params=dict(model.named_parameters()), show_attrs=True, show_saved=True)"
   ]
  },
  {
   "cell_type": "markdown",
   "id": "774215e1",
   "metadata": {},
   "source": [
    "### Case 2: training with vectorized IRM penalty term"
   ]
  },
  {
   "cell_type": "code",
   "execution_count": 14,
   "id": "ccae9258",
   "metadata": {
    "scrolled": false
   },
   "outputs": [
    {
     "name": "stdout",
     "output_type": "stream",
     "text": [
      "[epoch 00] Loss: 1.2318 | Base loss: 0.6900 | Penalty: 0.0054\n",
      "[epoch 05] Loss: 0.7899 | Base loss: 0.6919 | Penalty: 0.0010\n",
      "[epoch 10] Loss: 0.7144 | Base loss: 0.6927 | Penalty: 0.0002\n",
      "[epoch 15] Loss: 0.6964 | Base loss: 0.6930 | Penalty: 0.0000\n",
      "[epoch 20] Loss: 0.6935 | Base loss: 0.6930 | Penalty: 0.0000\n",
      "[epoch 25] Loss: 0.6932 | Base loss: 0.6931 | Penalty: 0.0000\n",
      "[epoch 30] Loss: 0.6932 | Base loss: 0.6931 | Penalty: 0.0000\n",
      "[epoch 35] Loss: 0.6932 | Base loss: 0.6931 | Penalty: 0.0000\n",
      "[epoch 40] Loss: 0.6931 | Base loss: 0.6931 | Penalty: 0.0000\n",
      "[epoch 45] Loss: 0.6931 | Base loss: 0.6931 | Penalty: 0.0000\n",
      "[epoch 50] Loss: 0.6931 | Base loss: 0.6931 | Penalty: 0.0000\n",
      "[epoch 55] Loss: 0.6931 | Base loss: 0.6931 | Penalty: 0.0000\n",
      "Train accuracy: 0.59286\n",
      "Test accuracy: 0.43342\n"
     ]
    },
    {
     "name": "stderr",
     "output_type": "stream",
     "text": [
      "/home/artur/.local/lib/python3.6/site-packages/torchviz/dot.py:68: UserWarning: make_dot: showing grad_fn attributes and saved variables requires PyTorch version >= 1.9. (This does NOT apply to saved tensors saved by custom autograd functions.)\n",
      "  \"make_dot: showing grad_fn attributes and saved variables\"\n"
     ]
    },
    {
     "data": {
      "image/svg+xml": "<?xml version=\"1.0\" encoding=\"UTF-8\" standalone=\"no\"?>\n<!DOCTYPE svg PUBLIC \"-//W3C//DTD SVG 1.1//EN\"\n \"http://www.w3.org/Graphics/SVG/1.1/DTD/svg11.dtd\">\n<!-- Generated by graphviz version 2.40.1 (20161225.0304)\n -->\n<!-- Title: %3 Pages: 1 -->\n<svg width=\"371pt\" height=\"864pt\"\n viewBox=\"0.00 0.00 371.30 864.00\" xmlns=\"http://www.w3.org/2000/svg\" xmlns:xlink=\"http://www.w3.org/1999/xlink\">\n<g id=\"graph0\" class=\"graph\" transform=\"scale(.7883 .7883) rotate(0) translate(4 1092)\">\n<title>%3</title>\n<polygon fill=\"#ffffff\" stroke=\"transparent\" points=\"-4,4 -4,-1092 467,-1092 467,4 -4,4\"/>\n<!-- 140563016769184 -->\n<g id=\"node1\" class=\"node\">\n<title>140563016769184</title>\n<polygon fill=\"#caff70\" stroke=\"#000000\" points=\"360.5,-31 306.5,-31 306.5,0 360.5,0 360.5,-31\"/>\n<text text-anchor=\"middle\" x=\"333.5\" y=\"-7\" font-family=\"monospace\" font-size=\"10.00\" fill=\"#000000\"> ()</text>\n</g>\n<!-- 140560502091504 -->\n<g id=\"node2\" class=\"node\">\n<title>140560502091504</title>\n<polygon fill=\"#d3d3d3\" stroke=\"#000000\" points=\"378,-86 289,-86 289,-67 378,-67 378,-86\"/>\n<text text-anchor=\"middle\" x=\"333.5\" y=\"-74\" font-family=\"monospace\" font-size=\"10.00\" fill=\"#000000\">AddBackward0</text>\n</g>\n<!-- 140560502091504&#45;&gt;140563016769184 -->\n<g id=\"edge33\" class=\"edge\">\n<title>140560502091504&#45;&gt;140563016769184</title>\n<path fill=\"none\" stroke=\"#000000\" d=\"M333.5,-66.9688C333.5,-60.1289 333.5,-50.5621 333.5,-41.5298\"/>\n<polygon fill=\"#000000\" stroke=\"#000000\" points=\"337.0001,-41.3678 333.5,-31.3678 330.0001,-41.3678 337.0001,-41.3678\"/>\n</g>\n<!-- 140560502091448 -->\n<g id=\"node3\" class=\"node\">\n<title>140560502091448</title>\n<polygon fill=\"#d3d3d3\" stroke=\"#000000\" points=\"463,-361 290,-361 290,-342 463,-342 463,-361\"/>\n<text text-anchor=\"middle\" x=\"376.5\" y=\"-349\" font-family=\"monospace\" font-size=\"10.00\" fill=\"#000000\">BinaryCrossEntropyBackward</text>\n</g>\n<!-- 140560502091448&#45;&gt;140560502091504 -->\n<g id=\"edge1\" class=\"edge\">\n<title>140560502091448&#45;&gt;140560502091504</title>\n<path fill=\"none\" stroke=\"#000000\" d=\"M376.0573,-341.7908C375.2228,-322.6229 373.5,-278.5624 373.5,-241.5 373.5,-241.5 373.5,-241.5 373.5,-186.5 373.5,-152.6431 356.5566,-116.2624 344.7245,-94.9842\"/>\n<polygon fill=\"#000000\" stroke=\"#000000\" points=\"347.6116,-92.9851 339.5751,-86.0811 341.5521,-96.4899 347.6116,-92.9851\"/>\n</g>\n<!-- 140560502091560 -->\n<g id=\"node4\" class=\"node\">\n<title>140560502091560</title>\n<polygon fill=\"#d3d3d3\" stroke=\"#000000\" points=\"309,-471 214,-471 214,-452 309,-452 309,-471\"/>\n<text text-anchor=\"middle\" x=\"261.5\" y=\"-459\" font-family=\"monospace\" font-size=\"10.00\" fill=\"#000000\">CopyBackwards</text>\n</g>\n<!-- 140560502091560&#45;&gt;140560502091448 -->\n<g id=\"edge2\" class=\"edge\">\n<title>140560502091560&#45;&gt;140560502091448</title>\n<path fill=\"none\" stroke=\"#000000\" d=\"M271.7055,-451.7382C291.3617,-432.9367 334.6764,-391.5052 359.0162,-368.2236\"/>\n<polygon fill=\"#000000\" stroke=\"#000000\" points=\"361.6744,-370.5243 366.4816,-361.0828 356.8359,-365.4658 361.6744,-370.5243\"/>\n</g>\n<!-- 140570934922096 -->\n<g id=\"node28\" class=\"node\">\n<title>140570934922096</title>\n<polygon fill=\"#d3d3d3\" stroke=\"#000000\" points=\"306,-306 217,-306 217,-287 306,-287 306,-306\"/>\n<text text-anchor=\"middle\" x=\"261.5\" y=\"-294\" font-family=\"monospace\" font-size=\"10.00\" fill=\"#000000\">MulBackward0</text>\n</g>\n<!-- 140560502091560&#45;&gt;140570934922096 -->\n<g id=\"edge32\" class=\"edge\">\n<title>140560502091560&#45;&gt;140570934922096</title>\n<path fill=\"none\" stroke=\"#000000\" d=\"M261.5,-451.6726C261.5,-425.1291 261.5,-351.6086 261.5,-316.1401\"/>\n<polygon fill=\"#000000\" stroke=\"#000000\" points=\"265.0001,-316.0691 261.5,-306.0692 258.0001,-316.0692 265.0001,-316.0691\"/>\n</g>\n<!-- 140570934921312 -->\n<g id=\"node30\" class=\"node\">\n<title>140570934921312</title>\n<polygon fill=\"#d3d3d3\" stroke=\"#000000\" points=\"179,-416 90,-416 90,-397 179,-397 179,-416\"/>\n<text text-anchor=\"middle\" x=\"134.5\" y=\"-404\" font-family=\"monospace\" font-size=\"10.00\" fill=\"#000000\">MulBackward0</text>\n</g>\n<!-- 140560502091560&#45;&gt;140570934921312 -->\n<g id=\"edge29\" class=\"edge\">\n<title>140560502091560&#45;&gt;140570934921312</title>\n<path fill=\"none\" stroke=\"#000000\" d=\"M239.3783,-451.9197C219.1064,-443.1406 188.8692,-430.0457 166.0628,-420.1689\"/>\n<polygon fill=\"#000000\" stroke=\"#000000\" points=\"167.3617,-416.9174 156.7943,-416.155 164.5798,-423.3409 167.3617,-416.9174\"/>\n</g>\n<!-- 140560502091000 -->\n<g id=\"node5\" class=\"node\">\n<title>140560502091000</title>\n<polygon fill=\"#d3d3d3\" stroke=\"#000000\" points=\"315,-532 208,-532 208,-513 315,-513 315,-532\"/>\n<text text-anchor=\"middle\" x=\"261.5\" y=\"-520\" font-family=\"monospace\" font-size=\"10.00\" fill=\"#000000\">SigmoidBackward</text>\n</g>\n<!-- 140560502091000&#45;&gt;140560502091560 -->\n<g id=\"edge3\" class=\"edge\">\n<title>140560502091000&#45;&gt;140560502091560</title>\n<path fill=\"none\" stroke=\"#000000\" d=\"M261.5,-512.9688C261.5,-504.5131 261.5,-491.8901 261.5,-481.2615\"/>\n<polygon fill=\"#000000\" stroke=\"#000000\" points=\"265.0001,-481.1656 261.5,-471.1656 258.0001,-481.1657 265.0001,-481.1656\"/>\n</g>\n<!-- 140560502090384 -->\n<g id=\"node6\" class=\"node\">\n<title>140560502090384</title>\n<polygon fill=\"#d3d3d3\" stroke=\"#000000\" points=\"306,-593 217,-593 217,-574 306,-574 306,-593\"/>\n<text text-anchor=\"middle\" x=\"261.5\" y=\"-581\" font-family=\"monospace\" font-size=\"10.00\" fill=\"#000000\">ViewBackward</text>\n</g>\n<!-- 140560502090384&#45;&gt;140560502091000 -->\n<g id=\"edge4\" class=\"edge\">\n<title>140560502090384&#45;&gt;140560502091000</title>\n<path fill=\"none\" stroke=\"#000000\" d=\"M261.5,-573.9688C261.5,-565.5131 261.5,-552.8901 261.5,-542.2615\"/>\n<polygon fill=\"#000000\" stroke=\"#000000\" points=\"265.0001,-542.1656 261.5,-532.1656 258.0001,-542.1657 265.0001,-542.1656\"/>\n</g>\n<!-- 140570934922040 -->\n<g id=\"node7\" class=\"node\">\n<title>140570934922040</title>\n<polygon fill=\"#d3d3d3\" stroke=\"#000000\" points=\"300,-648 223,-648 223,-629 300,-629 300,-648\"/>\n<text text-anchor=\"middle\" x=\"261.5\" y=\"-636\" font-family=\"monospace\" font-size=\"10.00\" fill=\"#000000\">MmBackward</text>\n</g>\n<!-- 140570934922040&#45;&gt;140560502090384 -->\n<g id=\"edge5\" class=\"edge\">\n<title>140570934922040&#45;&gt;140560502090384</title>\n<path fill=\"none\" stroke=\"#000000\" d=\"M261.5,-628.9197C261.5,-621.9083 261.5,-612.1442 261.5,-603.4652\"/>\n<polygon fill=\"#000000\" stroke=\"#000000\" points=\"265.0001,-603.3408 261.5,-593.3408 258.0001,-603.3409 265.0001,-603.3408\"/>\n</g>\n<!-- 140570934922600 -->\n<g id=\"node8\" class=\"node\">\n<title>140570934922600</title>\n<polygon fill=\"#d3d3d3\" stroke=\"#000000\" points=\"259,-703 164,-703 164,-684 259,-684 259,-703\"/>\n<text text-anchor=\"middle\" x=\"211.5\" y=\"-691\" font-family=\"monospace\" font-size=\"10.00\" fill=\"#000000\">ReluBackward0</text>\n</g>\n<!-- 140570934922600&#45;&gt;140570934922040 -->\n<g id=\"edge6\" class=\"edge\">\n<title>140570934922600&#45;&gt;140570934922040</title>\n<path fill=\"none\" stroke=\"#000000\" d=\"M220.2093,-683.9197C227.2207,-676.2072 237.2601,-665.1639 245.6838,-655.8978\"/>\n<polygon fill=\"#000000\" stroke=\"#000000\" points=\"248.4168,-658.0946 252.5538,-648.3408 243.2372,-653.3859 248.4168,-658.0946\"/>\n</g>\n<!-- 140570934921256 -->\n<g id=\"node9\" class=\"node\">\n<title>140570934921256</title>\n<polygon fill=\"#d3d3d3\" stroke=\"#000000\" points=\"252,-758 157,-758 157,-739 252,-739 252,-758\"/>\n<text text-anchor=\"middle\" x=\"204.5\" y=\"-746\" font-family=\"monospace\" font-size=\"10.00\" fill=\"#000000\">AddmmBackward</text>\n</g>\n<!-- 140570934921256&#45;&gt;140570934922600 -->\n<g id=\"edge7\" class=\"edge\">\n<title>140570934921256&#45;&gt;140570934922600</title>\n<path fill=\"none\" stroke=\"#000000\" d=\"M205.7193,-738.9197C206.6117,-731.9083 207.8544,-722.1442 208.959,-713.4652\"/>\n<polygon fill=\"#000000\" stroke=\"#000000\" points=\"212.4569,-713.7027 210.2475,-703.3408 205.5129,-712.8189 212.4569,-713.7027\"/>\n</g>\n<!-- 140570934921704 -->\n<g id=\"node10\" class=\"node\">\n<title>140570934921704</title>\n<polygon fill=\"#d3d3d3\" stroke=\"#000000\" points=\"101,-818.5 0,-818.5 0,-799.5 101,-799.5 101,-818.5\"/>\n<text text-anchor=\"middle\" x=\"50.5\" y=\"-806.5\" font-family=\"monospace\" font-size=\"10.00\" fill=\"#000000\">AccumulateGrad</text>\n</g>\n<!-- 140570934921704&#45;&gt;140570934921256 -->\n<g id=\"edge8\" class=\"edge\">\n<title>140570934921704&#45;&gt;140570934921256</title>\n<path fill=\"none\" stroke=\"#000000\" d=\"M74.9018,-799.4136C100.8092,-789.2357 141.9339,-773.0795 170.8962,-761.7015\"/>\n<polygon fill=\"#000000\" stroke=\"#000000\" points=\"172.1847,-764.9558 180.2124,-758.0416 169.6251,-758.4405 172.1847,-764.9558\"/>\n</g>\n<!-- 140560502122824 -->\n<g id=\"node11\" class=\"node\">\n<title>140560502122824</title>\n<polygon fill=\"#add8e6\" stroke=\"#000000\" points=\"86,-890 15,-890 15,-860 86,-860 86,-890\"/>\n<text text-anchor=\"middle\" x=\"50.5\" y=\"-878\" font-family=\"monospace\" font-size=\"10.00\" fill=\"#000000\">lin2.bias</text>\n<text text-anchor=\"middle\" x=\"50.5\" y=\"-867\" font-family=\"monospace\" font-size=\"10.00\" fill=\"#000000\"> (256)</text>\n</g>\n<!-- 140560502122824&#45;&gt;140570934921704 -->\n<g id=\"edge9\" class=\"edge\">\n<title>140560502122824&#45;&gt;140570934921704</title>\n<path fill=\"none\" stroke=\"#000000\" d=\"M50.5,-859.6924C50.5,-850.5067 50.5,-838.7245 50.5,-828.8312\"/>\n<polygon fill=\"#000000\" stroke=\"#000000\" points=\"54.0001,-828.703 50.5,-818.7031 47.0001,-828.7031 54.0001,-828.703\"/>\n</g>\n<!-- 140570934919240 -->\n<g id=\"node12\" class=\"node\">\n<title>140570934919240</title>\n<polygon fill=\"#d3d3d3\" stroke=\"#000000\" points=\"214,-818.5 119,-818.5 119,-799.5 214,-799.5 214,-818.5\"/>\n<text text-anchor=\"middle\" x=\"166.5\" y=\"-806.5\" font-family=\"monospace\" font-size=\"10.00\" fill=\"#000000\">ReluBackward0</text>\n</g>\n<!-- 140570934919240&#45;&gt;140570934921256 -->\n<g id=\"edge10\" class=\"edge\">\n<title>140570934919240&#45;&gt;140570934921256</title>\n<path fill=\"none\" stroke=\"#000000\" d=\"M172.6054,-799.2796C178.0575,-790.5992 186.1919,-777.6485 192.881,-766.9987\"/>\n<polygon fill=\"#000000\" stroke=\"#000000\" points=\"195.9285,-768.727 198.2836,-758.3972 190.0008,-765.0038 195.9285,-768.727\"/>\n</g>\n<!-- 140570934921816 -->\n<g id=\"node13\" class=\"node\">\n<title>140570934921816</title>\n<polygon fill=\"#d3d3d3\" stroke=\"#000000\" points=\"206,-884.5 111,-884.5 111,-865.5 206,-865.5 206,-884.5\"/>\n<text text-anchor=\"middle\" x=\"158.5\" y=\"-872.5\" font-family=\"monospace\" font-size=\"10.00\" fill=\"#000000\">AddmmBackward</text>\n</g>\n<!-- 140570934921816&#45;&gt;140570934919240 -->\n<g id=\"edge11\" class=\"edge\">\n<title>140570934921816&#45;&gt;140570934919240</title>\n<path fill=\"none\" stroke=\"#000000\" d=\"M159.6804,-865.2615C160.8385,-855.7077 162.638,-840.8615 164.0978,-828.8183\"/>\n<polygon fill=\"#000000\" stroke=\"#000000\" points=\"167.5859,-829.127 165.3147,-818.7785 160.6368,-828.2846 167.5859,-829.127\"/>\n</g>\n<!-- 140570934919744 -->\n<g id=\"node14\" class=\"node\">\n<title>140570934919744</title>\n<polygon fill=\"#d3d3d3\" stroke=\"#000000\" points=\"116,-950.5 15,-950.5 15,-931.5 116,-931.5 116,-950.5\"/>\n<text text-anchor=\"middle\" x=\"65.5\" y=\"-938.5\" font-family=\"monospace\" font-size=\"10.00\" fill=\"#000000\">AccumulateGrad</text>\n</g>\n<!-- 140570934919744&#45;&gt;140570934921816 -->\n<g id=\"edge12\" class=\"edge\">\n<title>140570934919744&#45;&gt;140570934921816</title>\n<path fill=\"none\" stroke=\"#000000\" d=\"M79.2225,-931.2615C94.2817,-920.5743 118.6728,-903.2644 136.4281,-890.6639\"/>\n<polygon fill=\"#000000\" stroke=\"#000000\" points=\"138.8941,-893.2057 145.0236,-884.5639 134.8429,-887.4971 138.8941,-893.2057\"/>\n</g>\n<!-- 140560502123760 -->\n<g id=\"node15\" class=\"node\">\n<title>140560502123760</title>\n<polygon fill=\"#add8e6\" stroke=\"#000000\" points=\"101,-1022 30,-1022 30,-992 101,-992 101,-1022\"/>\n<text text-anchor=\"middle\" x=\"65.5\" y=\"-1010\" font-family=\"monospace\" font-size=\"10.00\" fill=\"#000000\">lin1.bias</text>\n<text text-anchor=\"middle\" x=\"65.5\" y=\"-999\" font-family=\"monospace\" font-size=\"10.00\" fill=\"#000000\"> (256)</text>\n</g>\n<!-- 140560502123760&#45;&gt;140570934919744 -->\n<g id=\"edge13\" class=\"edge\">\n<title>140560502123760&#45;&gt;140570934919744</title>\n<path fill=\"none\" stroke=\"#000000\" d=\"M65.5,-991.6924C65.5,-982.5067 65.5,-970.7245 65.5,-960.8312\"/>\n<polygon fill=\"#000000\" stroke=\"#000000\" points=\"69.0001,-960.703 65.5,-950.7031 62.0001,-960.7031 69.0001,-960.703\"/>\n</g>\n<!-- 140570934922152 -->\n<g id=\"node16\" class=\"node\">\n<title>140570934922152</title>\n<polygon fill=\"#d3d3d3\" stroke=\"#000000\" points=\"205,-950.5 134,-950.5 134,-931.5 205,-931.5 205,-950.5\"/>\n<text text-anchor=\"middle\" x=\"169.5\" y=\"-938.5\" font-family=\"monospace\" font-size=\"10.00\" fill=\"#000000\">TBackward</text>\n</g>\n<!-- 140570934922152&#45;&gt;140570934921816 -->\n<g id=\"edge14\" class=\"edge\">\n<title>140570934922152&#45;&gt;140570934921816</title>\n<path fill=\"none\" stroke=\"#000000\" d=\"M167.8769,-931.2615C166.2846,-921.7077 163.8103,-906.8615 161.8031,-894.8183\"/>\n<polygon fill=\"#000000\" stroke=\"#000000\" points=\"165.2262,-894.067 160.1297,-884.7785 158.3214,-895.2178 165.2262,-894.067\"/>\n</g>\n<!-- 140570934922768 -->\n<g id=\"node17\" class=\"node\">\n<title>140570934922768</title>\n<polygon fill=\"#d3d3d3\" stroke=\"#000000\" points=\"220,-1016.5 119,-1016.5 119,-997.5 220,-997.5 220,-1016.5\"/>\n<text text-anchor=\"middle\" x=\"169.5\" y=\"-1004.5\" font-family=\"monospace\" font-size=\"10.00\" fill=\"#000000\">AccumulateGrad</text>\n</g>\n<!-- 140570934922768&#45;&gt;140570934922152 -->\n<g id=\"edge15\" class=\"edge\">\n<title>140570934922768&#45;&gt;140570934922152</title>\n<path fill=\"none\" stroke=\"#000000\" d=\"M169.5,-997.2615C169.5,-987.7077 169.5,-972.8615 169.5,-960.8183\"/>\n<polygon fill=\"#000000\" stroke=\"#000000\" points=\"173.0001,-960.7784 169.5,-950.7785 166.0001,-960.7785 173.0001,-960.7784\"/>\n</g>\n<!-- 140560502123616 -->\n<g id=\"node18\" class=\"node\">\n<title>140560502123616</title>\n<polygon fill=\"#add8e6\" stroke=\"#000000\" points=\"214,-1088 125,-1088 125,-1058 214,-1058 214,-1088\"/>\n<text text-anchor=\"middle\" x=\"169.5\" y=\"-1076\" font-family=\"monospace\" font-size=\"10.00\" fill=\"#000000\">lin1.weight</text>\n<text text-anchor=\"middle\" x=\"169.5\" y=\"-1065\" font-family=\"monospace\" font-size=\"10.00\" fill=\"#000000\"> (256, 1568)</text>\n</g>\n<!-- 140560502123616&#45;&gt;140570934922768 -->\n<g id=\"edge16\" class=\"edge\">\n<title>140560502123616&#45;&gt;140570934922768</title>\n<path fill=\"none\" stroke=\"#000000\" d=\"M169.5,-1057.6924C169.5,-1048.5067 169.5,-1036.7245 169.5,-1026.8312\"/>\n<polygon fill=\"#000000\" stroke=\"#000000\" points=\"173.0001,-1026.703 169.5,-1016.7031 166.0001,-1026.7031 173.0001,-1026.703\"/>\n</g>\n<!-- 140570934921872 -->\n<g id=\"node19\" class=\"node\">\n<title>140570934921872</title>\n<polygon fill=\"#d3d3d3\" stroke=\"#000000\" points=\"303,-818.5 232,-818.5 232,-799.5 303,-799.5 303,-818.5\"/>\n<text text-anchor=\"middle\" x=\"267.5\" y=\"-806.5\" font-family=\"monospace\" font-size=\"10.00\" fill=\"#000000\">TBackward</text>\n</g>\n<!-- 140570934921872&#45;&gt;140570934921256 -->\n<g id=\"edge17\" class=\"edge\">\n<title>140570934921872&#45;&gt;140570934921256</title>\n<path fill=\"none\" stroke=\"#000000\" d=\"M257.378,-799.2796C247.8823,-790.1608 233.4794,-776.3294 222.102,-765.4035\"/>\n<polygon fill=\"#000000\" stroke=\"#000000\" points=\"224.4433,-762.7993 214.8062,-758.3972 219.5947,-767.8482 224.4433,-762.7993\"/>\n</g>\n<!-- 140570934922488 -->\n<g id=\"node20\" class=\"node\">\n<title>140570934922488</title>\n<polygon fill=\"#d3d3d3\" stroke=\"#000000\" points=\"325,-884.5 224,-884.5 224,-865.5 325,-865.5 325,-884.5\"/>\n<text text-anchor=\"middle\" x=\"274.5\" y=\"-872.5\" font-family=\"monospace\" font-size=\"10.00\" fill=\"#000000\">AccumulateGrad</text>\n</g>\n<!-- 140570934922488&#45;&gt;140570934921872 -->\n<g id=\"edge18\" class=\"edge\">\n<title>140570934922488&#45;&gt;140570934921872</title>\n<path fill=\"none\" stroke=\"#000000\" d=\"M273.4671,-865.2615C272.4538,-855.7077 270.8793,-840.8615 269.6019,-828.8183\"/>\n<polygon fill=\"#000000\" stroke=\"#000000\" points=\"273.0724,-828.3535 268.5371,-818.7785 266.1114,-829.0919 273.0724,-828.3535\"/>\n</g>\n<!-- 140560502123976 -->\n<g id=\"node21\" class=\"node\">\n<title>140560502123976</title>\n<polygon fill=\"#add8e6\" stroke=\"#000000\" points=\"316,-956 233,-956 233,-926 316,-926 316,-956\"/>\n<text text-anchor=\"middle\" x=\"274.5\" y=\"-944\" font-family=\"monospace\" font-size=\"10.00\" fill=\"#000000\">lin2.weight</text>\n<text text-anchor=\"middle\" x=\"274.5\" y=\"-933\" font-family=\"monospace\" font-size=\"10.00\" fill=\"#000000\"> (256, 256)</text>\n</g>\n<!-- 140560502123976&#45;&gt;140570934922488 -->\n<g id=\"edge19\" class=\"edge\">\n<title>140560502123976&#45;&gt;140570934922488</title>\n<path fill=\"none\" stroke=\"#000000\" d=\"M274.5,-925.6924C274.5,-916.5067 274.5,-904.7245 274.5,-894.8312\"/>\n<polygon fill=\"#000000\" stroke=\"#000000\" points=\"278.0001,-894.703 274.5,-884.7031 271.0001,-894.7031 278.0001,-894.703\"/>\n</g>\n<!-- 140570934920864 -->\n<g id=\"node22\" class=\"node\">\n<title>140570934920864</title>\n<polygon fill=\"#d3d3d3\" stroke=\"#000000\" points=\"361,-703 290,-703 290,-684 361,-684 361,-703\"/>\n<text text-anchor=\"middle\" x=\"325.5\" y=\"-691\" font-family=\"monospace\" font-size=\"10.00\" fill=\"#000000\">TBackward</text>\n</g>\n<!-- 140570934920864&#45;&gt;140570934922040 -->\n<g id=\"edge20\" class=\"edge\">\n<title>140570934920864&#45;&gt;140570934922040</title>\n<path fill=\"none\" stroke=\"#000000\" d=\"M314.3521,-683.9197C305.1055,-675.9735 291.7447,-664.4916 280.7704,-655.0605\"/>\n<polygon fill=\"#000000\" stroke=\"#000000\" points=\"282.8166,-652.2041 272.9511,-648.3408 278.2542,-657.513 282.8166,-652.2041\"/>\n</g>\n<!-- 140570934920696 -->\n<g id=\"node23\" class=\"node\">\n<title>140570934920696</title>\n<polygon fill=\"#d3d3d3\" stroke=\"#000000\" points=\"390,-758 289,-758 289,-739 390,-739 390,-758\"/>\n<text text-anchor=\"middle\" x=\"339.5\" y=\"-746\" font-family=\"monospace\" font-size=\"10.00\" fill=\"#000000\">AccumulateGrad</text>\n</g>\n<!-- 140570934920696&#45;&gt;140570934920864 -->\n<g id=\"edge21\" class=\"edge\">\n<title>140570934920696&#45;&gt;140570934920864</title>\n<path fill=\"none\" stroke=\"#000000\" d=\"M337.0614,-738.9197C335.2568,-731.8304 332.7359,-721.9269 330.5085,-713.1763\"/>\n<polygon fill=\"#000000\" stroke=\"#000000\" points=\"333.8636,-712.1684 328.0049,-703.3408 327.08,-713.8952 333.8636,-712.1684\"/>\n</g>\n<!-- 140560502123544 -->\n<g id=\"node24\" class=\"node\">\n<title>140560502123544</title>\n<polygon fill=\"#add8e6\" stroke=\"#000000\" points=\"398,-824 321,-824 321,-794 398,-794 398,-824\"/>\n<text text-anchor=\"middle\" x=\"359.5\" y=\"-812\" font-family=\"monospace\" font-size=\"10.00\" fill=\"#000000\">out.weight</text>\n<text text-anchor=\"middle\" x=\"359.5\" y=\"-801\" font-family=\"monospace\" font-size=\"10.00\" fill=\"#000000\"> (1, 256)</text>\n</g>\n<!-- 140560502123544&#45;&gt;140570934920696 -->\n<g id=\"edge22\" class=\"edge\">\n<title>140560502123544&#45;&gt;140570934920696</title>\n<path fill=\"none\" stroke=\"#000000\" d=\"M354.4532,-793.7333C351.8495,-785.8571 348.6464,-776.168 345.8737,-767.7803\"/>\n<polygon fill=\"#000000\" stroke=\"#000000\" points=\"349.131,-766.4825 342.6691,-758.0864 342.4847,-768.6796 349.131,-766.4825\"/>\n</g>\n<!-- 140560502090104 -->\n<g id=\"node25\" class=\"node\">\n<title>140560502090104</title>\n<polygon fill=\"#d3d3d3\" stroke=\"#000000\" points=\"342,-141 253,-141 253,-122 342,-122 342,-141\"/>\n<text text-anchor=\"middle\" x=\"297.5\" y=\"-129\" font-family=\"monospace\" font-size=\"10.00\" fill=\"#000000\">SumBackward0</text>\n</g>\n<!-- 140560502090104&#45;&gt;140560502091504 -->\n<g id=\"edge23\" class=\"edge\">\n<title>140560502090104&#45;&gt;140560502091504</title>\n<path fill=\"none\" stroke=\"#000000\" d=\"M303.7707,-121.9197C308.666,-114.4409 315.6112,-103.8301 321.5578,-94.745\"/>\n<polygon fill=\"#000000\" stroke=\"#000000\" points=\"324.5106,-96.6247 327.0587,-86.3408 318.6536,-92.791 324.5106,-96.6247\"/>\n</g>\n<!-- 140560502091616 -->\n<g id=\"node26\" class=\"node\">\n<title>140560502091616</title>\n<polygon fill=\"#d3d3d3\" stroke=\"#000000\" points=\"337,-196 248,-196 248,-177 337,-177 337,-196\"/>\n<text text-anchor=\"middle\" x=\"292.5\" y=\"-184\" font-family=\"monospace\" font-size=\"10.00\" fill=\"#000000\">PowBackward0</text>\n</g>\n<!-- 140560502091616&#45;&gt;140560502090104 -->\n<g id=\"edge24\" class=\"edge\">\n<title>140560502091616&#45;&gt;140560502090104</title>\n<path fill=\"none\" stroke=\"#000000\" d=\"M293.3709,-176.9197C294.0083,-169.9083 294.896,-160.1442 295.685,-151.4652\"/>\n<polygon fill=\"#000000\" stroke=\"#000000\" points=\"299.1856,-151.6167 296.6054,-141.3408 292.2143,-150.9829 299.1856,-151.6167\"/>\n</g>\n<!-- 140570934923160 -->\n<g id=\"node27\" class=\"node\">\n<title>140570934923160</title>\n<polygon fill=\"#d3d3d3\" stroke=\"#000000\" points=\"327,-251 238,-251 238,-232 327,-232 327,-251\"/>\n<text text-anchor=\"middle\" x=\"282.5\" y=\"-239\" font-family=\"monospace\" font-size=\"10.00\" fill=\"#000000\">SumBackward0</text>\n</g>\n<!-- 140570934923160&#45;&gt;140560502091616 -->\n<g id=\"edge25\" class=\"edge\">\n<title>140570934923160&#45;&gt;140560502091616</title>\n<path fill=\"none\" stroke=\"#000000\" d=\"M284.2419,-231.9197C285.5167,-224.9083 287.292,-215.1442 288.87,-206.4652\"/>\n<polygon fill=\"#000000\" stroke=\"#000000\" points=\"292.3654,-206.8057 290.7108,-196.3408 285.4783,-205.5534 292.3654,-206.8057\"/>\n</g>\n<!-- 140570934922096&#45;&gt;140570934923160 -->\n<g id=\"edge26\" class=\"edge\">\n<title>140570934922096&#45;&gt;140570934923160</title>\n<path fill=\"none\" stroke=\"#000000\" d=\"M265.1579,-286.9197C267.8945,-279.7525 271.7293,-269.7089 275.0972,-260.8882\"/>\n<polygon fill=\"#000000\" stroke=\"#000000\" points=\"278.4453,-261.9315 278.7426,-251.3408 271.9057,-259.4345 278.4453,-261.9315\"/>\n</g>\n<!-- 140570934922320 -->\n<g id=\"node29\" class=\"node\">\n<title>140570934922320</title>\n<polygon fill=\"#d3d3d3\" stroke=\"#000000\" points=\"233,-361 12,-361 12,-342 233,-342 233,-361\"/>\n<text text-anchor=\"middle\" x=\"122.5\" y=\"-349\" font-family=\"monospace\" font-size=\"10.00\" fill=\"#000000\">BinaryCrossEntropyBackwardBackward</text>\n</g>\n<!-- 140570934922320&#45;&gt;140570934922096 -->\n<g id=\"edge27\" class=\"edge\">\n<title>140570934922320&#45;&gt;140570934922096</title>\n<path fill=\"none\" stroke=\"#000000\" d=\"M146.712,-341.9197C169.0974,-333.0622 202.5854,-319.8115 227.6215,-309.9052\"/>\n<polygon fill=\"#000000\" stroke=\"#000000\" points=\"229.0883,-313.0889 237.0991,-306.155 226.5128,-306.5799 229.0883,-313.0889\"/>\n</g>\n<!-- 140570934921312&#45;&gt;140570934922320 -->\n<g id=\"edge28\" class=\"edge\">\n<title>140570934921312&#45;&gt;140570934922320</title>\n<path fill=\"none\" stroke=\"#000000\" d=\"M132.4098,-396.9197C130.863,-389.8304 128.7022,-379.9269 126.793,-371.1763\"/>\n<polygon fill=\"#000000\" stroke=\"#000000\" points=\"130.1984,-370.3649 124.6471,-361.3408 123.3593,-371.8571 130.1984,-370.3649\"/>\n</g>\n<!-- 140570934923104 -->\n<g id=\"node31\" class=\"node\">\n<title>140570934923104</title>\n<polygon fill=\"#d3d3d3\" stroke=\"#000000\" points=\"185,-471 84,-471 84,-452 185,-452 185,-471\"/>\n<text text-anchor=\"middle\" x=\"134.5\" y=\"-459\" font-family=\"monospace\" font-size=\"10.00\" fill=\"#000000\">AccumulateGrad</text>\n</g>\n<!-- 140570934923104&#45;&gt;140570934921312 -->\n<g id=\"edge30\" class=\"edge\">\n<title>140570934923104&#45;&gt;140570934921312</title>\n<path fill=\"none\" stroke=\"#000000\" d=\"M134.5,-451.9197C134.5,-444.9083 134.5,-435.1442 134.5,-426.4652\"/>\n<polygon fill=\"#000000\" stroke=\"#000000\" points=\"138.0001,-426.3408 134.5,-416.3408 131.0001,-426.3409 138.0001,-426.3408\"/>\n</g>\n<!-- 140560502031560 -->\n<g id=\"node32\" class=\"node\">\n<title>140560502031560</title>\n<polygon fill=\"#add8e6\" stroke=\"#000000\" points=\"161.5,-538 107.5,-538 107.5,-507 161.5,-507 161.5,-538\"/>\n<text text-anchor=\"middle\" x=\"134.5\" y=\"-514\" font-family=\"monospace\" font-size=\"10.00\" fill=\"#000000\"> ()</text>\n</g>\n<!-- 140560502031560&#45;&gt;140570934923104 -->\n<g id=\"edge31\" class=\"edge\">\n<title>140560502031560&#45;&gt;140570934923104</title>\n<path fill=\"none\" stroke=\"#000000\" d=\"M134.5,-506.791C134.5,-499.0249 134.5,-489.5706 134.5,-481.3129\"/>\n<polygon fill=\"#000000\" stroke=\"#000000\" points=\"138.0001,-481.0647 134.5,-471.0648 131.0001,-481.0648 138.0001,-481.0647\"/>\n</g>\n</g>\n</svg>\n",
      "text/plain": [
       "<graphviz.graphs.Digraph at 0x7fd6c8855630>"
      ]
     },
     "execution_count": 14,
     "metadata": {},
     "output_type": "execute_result"
    }
   ],
   "source": [
    "model = MLP(seed)\n",
    "loss_fn = model.criterion\n",
    "optim = torch.optim.Adam(model.parameters(), weight_decay=0.001)\n",
    "\n",
    "model = train(model, loss_fn, optim, irm_penalty_weights)\n",
    "\n",
    "print('Train accuracy: %.5f' % acc(model, train_set))\n",
    "print('Test accuracy: %.5f' % acc(model, (test_set[:][0],test_set[:][1])))\n",
    "\n",
    "output1 = model(X_batch).cpu()\n",
    "base_loss = model.criterion(output1, y_batch)\n",
    "penalty = irm_penalty_scalar(model, model.criterion, output1, y_batch)\n",
    "loss = base_loss + penalty\n",
    "\n",
    "make_dot(loss, params=dict(model.named_parameters()), show_attrs=True, show_saved=True)"
   ]
  },
  {
   "cell_type": "markdown",
   "id": "0a0cd70d",
   "metadata": {},
   "source": [
    "Notably, both autograd graphs are very similar, despite their differences in the penalty calculation.\n",
    "\n",
    "Nevertheless, their results with the same penalty coefficient and annealing term are very distinct.\n",
    "Once the regularization term kicks in, the penalty term in the latter case quickly goes to zero.\n",
    "This is not observed in the first case, where the penalty term is hardly fazed throughout training."
   ]
  }
 ],
 "metadata": {
  "kernelspec": {
   "display_name": "Python 3",
   "language": "python",
   "name": "python3"
  },
  "language_info": {
   "codemirror_mode": {
    "name": "ipython",
    "version": 3
   },
   "file_extension": ".py",
   "mimetype": "text/x-python",
   "name": "python",
   "nbconvert_exporter": "python",
   "pygments_lexer": "ipython3",
   "version": "3.6.9"
  }
 },
 "nbformat": 4,
 "nbformat_minor": 5
}
